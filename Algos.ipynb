{
 "cells": [
  {
   "cell_type": "code",
   "execution_count": 2,
   "metadata": {},
   "outputs": [
    {
     "data": {
      "text/plain": [
       "3524578"
      ]
     },
     "execution_count": 2,
     "metadata": {},
     "output_type": "execute_result"
    }
   ],
   "source": [
    "def fib(n):\n",
    "    if n==1:\n",
    "        return 0\n",
    "    elif n==2:\n",
    "        return 1\n",
    "    return fib(n-2)+fib(n-1)\n",
    "fib(34)"
   ]
  },
  {
   "cell_type": "code",
   "execution_count": 20,
   "metadata": {},
   "outputs": [
    {
     "data": {
      "text/plain": [
       "295232799039604140847618609643520000000"
      ]
     },
     "execution_count": 20,
     "metadata": {},
     "output_type": "execute_result"
    }
   ],
   "source": [
    "\n",
    "def fac(n):\n",
    "    a=1\n",
    "    for i in range(1,n+1):\n",
    "        a=a*i\n",
    "        #i+=1\n",
    "    return a\n",
    "\n",
    "def fac1(n):\n",
    "    if (n==0 or n==1):\n",
    "        return 1\n",
    "    else:\n",
    "        return n*fac1(n-1)\n",
    "\n",
    "\n",
    "fac(34)"
   ]
  },
  {
   "cell_type": "code",
   "execution_count": 21,
   "metadata": {},
   "outputs": [
    {
     "data": {
      "text/plain": [
       "243"
      ]
     },
     "execution_count": 21,
     "metadata": {},
     "output_type": "execute_result"
    }
   ],
   "source": [
    "def pw(x,y):\n",
    "    if y==0:\n",
    "        return 1\n",
    "    elif y%2==0:\n",
    "        return pw(x,y//2)*pw(x,y//2)\n",
    "    else:\n",
    "        return x*pw(x,y//2)*pw(x,y//2)\n",
    "pw(3,5)"
   ]
  },
  {
   "cell_type": "code",
   "execution_count": 17,
   "metadata": {},
   "outputs": [
    {
     "name": "stdout",
     "output_type": "stream",
     "text": [
      "3 is prime\n",
      "4 is not prime\n",
      "5 is prime\n",
      "6 is not prime\n",
      "7 is prime\n",
      "8 is not prime\n",
      "9 is prime\n",
      "10 is not prime\n"
     ]
    }
   ],
   "source": [
    "def pr(n):\n",
    "    for i in range(1, n+1):\n",
    "        for j in range(2, i):\n",
    "            if i%j==0:\n",
    "                print (\"{} is not prime\".format(i))\n",
    "                break\n",
    "            else:\n",
    "                print (\"{} is prime\".format(i))\n",
    "                break\n",
    "pr(10)"
   ]
  },
  {
   "cell_type": "code",
   "execution_count": 12,
   "metadata": {},
   "outputs": [
    {
     "data": {
      "text/plain": [
       "3"
      ]
     },
     "execution_count": 12,
     "metadata": {},
     "output_type": "execute_result"
    }
   ],
   "source": [
    "def order(n):\n",
    "    x=-1\n",
    "    while(n!=0):\n",
    "        n=int(n/10)\n",
    "        x+=1\n",
    "    return x\n",
    "order(6000)"
   ]
  },
  {
   "cell_type": "code",
   "execution_count": 21,
   "metadata": {},
   "outputs": [
    {
     "data": {
      "text/plain": [
       "True"
      ]
     },
     "execution_count": 21,
     "metadata": {},
     "output_type": "execute_result"
    }
   ],
   "source": [
    "import math\n",
    "def perfsq(n):\n",
    "    s=int(math.sqrt(n))\n",
    "    if s*s==n:\n",
    "        return True\n",
    "    else:\n",
    "        return False\n",
    "perfsq(289)"
   ]
  },
  {
   "cell_type": "code",
   "execution_count": 7,
   "metadata": {},
   "outputs": [
    {
     "data": {
      "text/plain": [
       "832040"
      ]
     },
     "execution_count": 7,
     "metadata": {},
     "output_type": "execute_result"
    }
   ],
   "source": [
    "def kmulti(k,n):\n",
    "    x=-1\n",
    "    for i in range(0,35):\n",
    "        \n",
    "        if (fib[i]%n==0):\n",
    "            x+=1\n",
    "            if x==k:\n",
    "                return fib[i]\n",
    "kmulti(5,4)"
   ]
  },
  {
   "cell_type": "code",
   "execution_count": 3,
   "metadata": {},
   "outputs": [
    {
     "data": {
      "text/plain": [
       "8"
      ]
     },
     "execution_count": 3,
     "metadata": {},
     "output_type": "execute_result"
    }
   ],
   "source": [
    "fib=[0,1]\n",
    "for i in range(2,35):\n",
    "    fib.append(fib[i-1]+fib[i-2])\n",
    "fib[6]"
   ]
  },
  {
   "cell_type": "code",
   "execution_count": 3,
   "metadata": {},
   "outputs": [
    {
     "data": {
      "text/plain": [
       "[3, 4, 5, 6, 7, 1, 2]"
      ]
     },
     "execution_count": 3,
     "metadata": {},
     "output_type": "execute_result"
    }
   ],
   "source": [
    "def arr_rot(a,d):\n",
    "    for i in range(d):\n",
    "        x=a[0]\n",
    "        for i in range(len(a)-1):\n",
    "            a[i]=a[i+1]\n",
    "        a[-1]=x\n",
    "    return a\n",
    "b=[1,2,3,4,5,6,7]\n",
    "arr_rot(b,2)"
   ]
  },
  {
   "cell_type": "code",
   "execution_count": 10,
   "metadata": {},
   "outputs": [
    {
     "data": {
      "text/plain": [
       "[3, 2, 1]"
      ]
     },
     "execution_count": 10,
     "metadata": {},
     "output_type": "execute_result"
    }
   ],
   "source": [
    "def rever(a):\n",
    "    for i in range(0,len(a)//2):\n",
    "        a[i],a[len(a)-i-1]=a[len(a)-i-1],a[i]\n",
    "    return a\n",
    "b=[1,2,3]\n",
    "rever(b)"
   ]
  },
  {
   "cell_type": "code",
   "execution_count": 40,
   "metadata": {},
   "outputs": [
    {
     "data": {
      "text/plain": [
       "False"
      ]
     },
     "execution_count": 40,
     "metadata": {},
     "output_type": "execute_result"
    }
   ],
   "source": [
    "def isMonotonicallyIncreasing(a):\n",
    "    x=1\n",
    "    for i in range(len(a)-1):\n",
    "        if (a[i]-a[i+1]<0):\n",
    "            x+=1\n",
    "    if x==len(a):\n",
    "        return True\n",
    "    else:\n",
    "        return False\n",
    "b=[1,50,10]\n",
    "isMonotonicallyIncreasing(b)"
   ]
  },
  {
   "cell_type": "code",
   "execution_count": 8,
   "metadata": {},
   "outputs": [
    {
     "data": {
      "text/plain": [
       "['a', 'b', 'c', 'b', 'a']"
      ]
     },
     "execution_count": 8,
     "metadata": {},
     "output_type": "execute_result"
    }
   ],
   "source": [
    "def occur(a,n,g):\n",
    "    x=0\n",
    "    for i in range(0,len(a)-1):\n",
    "        if (a[i]==g):\n",
    "            x=x+1\n",
    "            \n",
    "            if (x==n):\n",
    "                a.pop(i)\n",
    "                \n",
    "    return a\n",
    "occur([\"a\",\"b\",\"c\",\"a\",\"b\",\"a\"],2,\"a\")"
   ]
  },
  {
   "cell_type": "code",
   "execution_count": 20,
   "metadata": {},
   "outputs": [
    {
     "data": {
      "text/plain": [
       "'cold severe'"
      ]
     },
     "execution_count": 20,
     "metadata": {},
     "output_type": "execute_result"
    }
   ],
   "source": [
    "b=\"severe cold\"\n",
    "b=b.split(' ')\n",
    "b=b[::-1]\n",
    "' '.join(b)"
   ]
  },
  {
   "cell_type": "code",
   "execution_count": 31,
   "metadata": {},
   "outputs": [
    {
     "data": {
      "text/plain": [
       "[3, 2, 1]"
      ]
     },
     "execution_count": 31,
     "metadata": {},
     "output_type": "execute_result"
    }
   ],
   "source": [
    "b=[1,2,3]\n",
    "b[::-1]"
   ]
  },
  {
   "cell_type": "code",
   "execution_count": 51,
   "metadata": {},
   "outputs": [
    {
     "name": "stdout",
     "output_type": "stream",
     "text": [
      "anagram\n"
     ]
    }
   ],
   "source": [
    "b=\"severe\"\n",
    "c=\"veeers\"\n",
    "def anagrm(x,y):\n",
    "    if len(x)!=len(y):\n",
    "        print (\"not an anagram\")\n",
    "    elif (all(x[i]==y[j]) for i, j in range(len(x))):\n",
    "        print (\"anagram\")\n",
    "anagrm(b,c)"
   ]
  },
  {
   "cell_type": "code",
   "execution_count": 54,
   "metadata": {},
   "outputs": [
    {
     "data": {
      "text/plain": [
       "True"
      ]
     },
     "execution_count": 54,
     "metadata": {},
     "output_type": "execute_result"
    }
   ],
   "source": [
    "b=\"alas\"\n",
    "c=\"alas ass shit\"\n",
    "def subs(x,y):\n",
    "    if x in y:\n",
    "        return True\n",
    "    else:\n",
    "        return False\n",
    "subs(b,c)"
   ]
  },
  {
   "cell_type": "code",
   "execution_count": 18,
   "metadata": {},
   "outputs": [
    {
     "data": {
      "text/plain": [
       "'tes ig'"
      ]
     },
     "execution_count": 18,
     "metadata": {},
     "output_type": "execute_result"
    }
   ],
   "source": [
    "def ith(a,k):\n",
    "    b=[]\n",
    "    for i in range(len(a)):\n",
    "        if a[i]==a[k]:\n",
    "            pass\n",
    "        else:\n",
    "            b.append(a[i])\n",
    "    return ''.join(b)\n",
    "ith(\"tes ing\",5)"
   ]
  },
  {
   "cell_type": "code",
   "execution_count": 72,
   "metadata": {},
   "outputs": [
    {
     "data": {
      "text/plain": [
       "'igtnes'"
      ]
     },
     "execution_count": 72,
     "metadata": {},
     "output_type": "execute_result"
    }
   ],
   "source": [
    "c=\"testing\"\n",
    "d=set(c)\n",
    "''.join(d)"
   ]
  },
  {
   "cell_type": "code",
   "execution_count": 36,
   "metadata": {},
   "outputs": [
    {
     "data": {
      "text/plain": [
       "True"
      ]
     },
     "execution_count": 36,
     "metadata": {},
     "output_type": "execute_result"
    }
   ],
   "source": [
    "def palind(a):\n",
    "    if a==a[::-1]:\n",
    "        return True\n",
    "    else:\n",
    "        return False\n",
    "palind(\"abba\")"
   ]
  },
  {
   "cell_type": "code",
   "execution_count": 55,
   "metadata": {},
   "outputs": [
    {
     "data": {
      "text/plain": [
       "'have some'"
      ]
     },
     "execution_count": 55,
     "metadata": {},
     "output_type": "execute_result"
    }
   ],
   "source": [
    "def even(a):\n",
    "    b=a.split(' ')\n",
    "    c=[]\n",
    "    for i in b:\n",
    "        if len(i)%2==0:\n",
    "            c.append(i)\n",
    "        else:\n",
    "            pass\n",
    "    return ' '.join(c)\n",
    "even(\"Let's have some fun bitches\")"
   ]
  },
  {
   "cell_type": "code",
   "execution_count": 88,
   "metadata": {},
   "outputs": [
    {
     "data": {
      "text/plain": [
       "True"
      ]
     },
     "execution_count": 88,
     "metadata": {},
     "output_type": "execute_result"
    }
   ],
   "source": [
    "def accepvow(a):\n",
    "    a=a.lower()\n",
    "    x=0\n",
    "    b=['a','e','i','o','u']\n",
    "    for i in range(len(b)):\n",
    "        if b[i] in set(a):\n",
    "            pass\n",
    "        else:\n",
    "            x+=1\n",
    "    if x!=0:\n",
    "        return False\n",
    "    else:\n",
    "        return True\n",
    "accepvow(\"AeIHgOaeufr784oOu%238*&^ U\")"
   ]
  },
  {
   "cell_type": "code",
   "execution_count": 108,
   "metadata": {},
   "outputs": [
    {
     "data": {
      "text/plain": [
       "'abcdgdghjjfsu'"
      ]
     },
     "execution_count": 108,
     "metadata": {},
     "output_type": "execute_result"
    }
   ],
   "source": [
    "def remdupli(a):\n",
    "    b=[]\n",
    "    for i in range(len(a)):\n",
    "        for j in range(i+1,len(a)):\n",
    "            if (a[i]==a[j]):\n",
    "                pass\n",
    "            else:\n",
    "                b.append(a[i])\n",
    "                break\n",
    "    return ''.join(b)\n",
    "remdupli('abcdgdghjjfsud')"
   ]
  },
  {
   "cell_type": "code",
   "execution_count": 26,
   "metadata": {},
   "outputs": [
    {
     "ename": "IndexError",
     "evalue": "list assignment index out of range",
     "output_type": "error",
     "traceback": [
      "\u001b[0;31m---------------------------------------------------------------------------\u001b[0m",
      "\u001b[0;31mIndexError\u001b[0m                                Traceback (most recent call last)",
      "\u001b[0;32m<ipython-input-26-949ba07dce46>\u001b[0m in \u001b[0;36m<module>\u001b[0;34m()\u001b[0m\n\u001b[1;32m     55\u001b[0m \u001b[0mg\u001b[0m\u001b[0;34m.\u001b[0m\u001b[0maddEdge\u001b[0m\u001b[0;34m(\u001b[0m\u001b[0;36m8\u001b[0m\u001b[0;34m,\u001b[0m \u001b[0;36m10\u001b[0m\u001b[0;34m)\u001b[0m\u001b[0;34m\u001b[0m\u001b[0;34m\u001b[0m\u001b[0m\n\u001b[1;32m     56\u001b[0m \u001b[0;34m\u001b[0m\u001b[0m\n\u001b[0;32m---> 57\u001b[0;31m \u001b[0mg\u001b[0m\u001b[0;34m.\u001b[0m\u001b[0mDFS\u001b[0m\u001b[0;34m(\u001b[0m\u001b[0;36m5\u001b[0m\u001b[0;34m)\u001b[0m\u001b[0;34m\u001b[0m\u001b[0;34m\u001b[0m\u001b[0m\n\u001b[0m",
      "\u001b[0;32m<ipython-input-26-949ba07dce46>\u001b[0m in \u001b[0;36mDFS\u001b[0;34m(self, s)\u001b[0m\n\u001b[1;32m     42\u001b[0m         \u001b[0mvisited\u001b[0m\u001b[0;34m=\u001b[0m\u001b[0;34m[\u001b[0m\u001b[0;32mFalse\u001b[0m\u001b[0;34m]\u001b[0m\u001b[0;34m*\u001b[0m\u001b[0mlen\u001b[0m\u001b[0;34m(\u001b[0m\u001b[0mself\u001b[0m\u001b[0;34m.\u001b[0m\u001b[0mgraph\u001b[0m\u001b[0;34m)\u001b[0m\u001b[0;34m\u001b[0m\u001b[0;34m\u001b[0m\u001b[0m\n\u001b[1;32m     43\u001b[0m \u001b[0;34m\u001b[0m\u001b[0m\n\u001b[0;32m---> 44\u001b[0;31m         \u001b[0mself\u001b[0m\u001b[0;34m.\u001b[0m\u001b[0mDFS_util\u001b[0m\u001b[0;34m(\u001b[0m\u001b[0ms\u001b[0m\u001b[0;34m,\u001b[0m\u001b[0mvisited\u001b[0m\u001b[0;34m)\u001b[0m\u001b[0;34m\u001b[0m\u001b[0;34m\u001b[0m\u001b[0m\n\u001b[0m\u001b[1;32m     45\u001b[0m \u001b[0;34m\u001b[0m\u001b[0m\n\u001b[1;32m     46\u001b[0m \u001b[0mg\u001b[0m \u001b[0;34m=\u001b[0m \u001b[0mGraph\u001b[0m\u001b[0;34m(\u001b[0m\u001b[0;34m)\u001b[0m\u001b[0;34m\u001b[0m\u001b[0;34m\u001b[0m\u001b[0m\n",
      "\u001b[0;32m<ipython-input-26-949ba07dce46>\u001b[0m in \u001b[0;36mDFS_util\u001b[0;34m(self, s, visited)\u001b[0m\n\u001b[1;32m     30\u001b[0m     \u001b[0;32mdef\u001b[0m \u001b[0mDFS_util\u001b[0m\u001b[0;34m(\u001b[0m\u001b[0mself\u001b[0m\u001b[0;34m,\u001b[0m \u001b[0ms\u001b[0m\u001b[0;34m,\u001b[0m \u001b[0mvisited\u001b[0m\u001b[0;34m)\u001b[0m\u001b[0;34m:\u001b[0m\u001b[0;34m\u001b[0m\u001b[0;34m\u001b[0m\u001b[0m\n\u001b[1;32m     31\u001b[0m \u001b[0;34m\u001b[0m\u001b[0m\n\u001b[0;32m---> 32\u001b[0;31m         \u001b[0mvisited\u001b[0m\u001b[0;34m[\u001b[0m\u001b[0ms\u001b[0m\u001b[0;34m]\u001b[0m\u001b[0;34m=\u001b[0m\u001b[0;32mTrue\u001b[0m\u001b[0;34m\u001b[0m\u001b[0;34m\u001b[0m\u001b[0m\n\u001b[0m\u001b[1;32m     33\u001b[0m         \u001b[0mprint\u001b[0m \u001b[0;34m(\u001b[0m\u001b[0ms\u001b[0m\u001b[0;34m)\u001b[0m\u001b[0;34m\u001b[0m\u001b[0;34m\u001b[0m\u001b[0m\n\u001b[1;32m     34\u001b[0m \u001b[0;34m\u001b[0m\u001b[0m\n",
      "\u001b[0;31mIndexError\u001b[0m: list assignment index out of range"
     ]
    }
   ],
   "source": [
    "from collections import defaultdict\n",
    "\n",
    "class Graph:\n",
    "    \n",
    "    def __init__(self):\n",
    "        self.graph=defaultdict(list)\n",
    "        \n",
    "    def addEdge(self, u, v):\n",
    "        self.graph[u].append(v)\n",
    "        \n",
    "    def BFS(self, s):\n",
    "        \n",
    "        visited=[False]*len(self.graph)\n",
    "        \n",
    "        queue=[]\n",
    "        \n",
    "        queue.append(s)\n",
    "        visited[s]=True\n",
    "        \n",
    "        while queue:\n",
    "            \n",
    "            s=queue.pop(0)\n",
    "            print (s)\n",
    "            \n",
    "            for i in self.graph[s]:\n",
    "                if visited[i]==False:\n",
    "                    queue.append(i)\n",
    "                    visited[i]=True\n",
    "                    \n",
    "    def DFS_util(self, s, visited):\n",
    "        \n",
    "        visited[s]=True\n",
    "        print (s)\n",
    "        \n",
    "        for i in self.graph[s]:\n",
    "            if visited[i]==False:\n",
    "                \n",
    "                self.DFS_util(i, visited)\n",
    "    \n",
    "    def DFS(self, s):\n",
    "        \n",
    "        visited=[False]*len(self.graph)\n",
    "        \n",
    "        self.DFS_util(s,visited)\n",
    "                    \n",
    "g = Graph() \n",
    "g.addEdge(1, 2) \n",
    "g.addEdge(1, 3) \n",
    "g.addEdge(3, 4) \n",
    "g.addEdge(2, 5) \n",
    "g.addEdge(1, 6) \n",
    "g.addEdge(2, 7)\n",
    "g.addEdge(6, 8)\n",
    "g.addEdge(8, 9)\n",
    "g.addEdge(8, 10)\n",
    "\n",
    "g.DFS(5)"
   ]
  },
  {
   "cell_type": "code",
   "execution_count": null,
   "metadata": {},
   "outputs": [],
   "source": [
    "arr=[3,568,56,90,234,65,98]\n",
    "arr=sorted(arr)\n",
    "def binary_search(a,k):\n",
    "    if k<a[len(a)//2]:\n",
    "        binary_search(a[:(len(a)//2)+1],k)\n",
    "    elif k>a[len(a)//2]:\n",
    "        binary_search(a[len(a)//2:],k)\n",
    "    else:\n",
    "        print(\"present\")\n",
    "binary_search(arr,3)"
   ]
  },
  {
   "cell_type": "code",
   "execution_count": 9,
   "metadata": {},
   "outputs": [
    {
     "data": {
      "text/plain": [
       "'Unbalanced'"
      ]
     },
     "execution_count": 9,
     "metadata": {},
     "output_type": "execute_result"
    }
   ],
   "source": [
    "q=['(','[','{']\n",
    "p=[')',']','}']\n",
    "def parenthesis(a):\n",
    "    x=[]\n",
    "    for i in a:\n",
    "        if i in q:\n",
    "            x.append(i)\n",
    "        elif i in p:\n",
    "            pos=p.index(i)\n",
    "            if (len(x)>0) and (q[pos]==x[len(x)-1]):\n",
    "                x.pop()\n",
    "            else:\n",
    "                return \"Unbalanced\"\n",
    "            \n",
    "    if len(x)==0:\n",
    "        return \"Balanced\"\n",
    "    \n",
    "parenthesis('),)')"
   ]
  },
  {
   "cell_type": "code",
   "execution_count": 8,
   "metadata": {},
   "outputs": [
    {
     "name": "stdout",
     "output_type": "stream",
     "text": [
      "Inorder Traversal of constructed tree\n",
      "6\n",
      "5\n",
      "3\n",
      "1\n",
      "4\n",
      "0\n",
      "2\n"
     ]
    }
   ],
   "source": [
    "class Node:\n",
    "    def __init__(self, value):\n",
    "        self.left=None\n",
    "        self.right=None\n",
    "        self.value=value\n",
    "        \n",
    "def high(n, *a):\n",
    "    nodes=[]\n",
    "    for i in range(len(a)):\n",
    "        nodes.append(a[i])\n",
    "    node=nodes[0]\n",
    "    \n",
    "def crnode(i, node, root, created):\n",
    "    if created[i] is not None:\n",
    "        return\n",
    "    created[i]=Node(i)\n",
    "    \n",
    "    if node[i]==-1:\n",
    "        root[0]=created[i]\n",
    "        return\n",
    "        \n",
    "    if created[node[i]] is None:\n",
    "        crnode(node[i], node, root, created)\n",
    "        \n",
    "    p=created[node[i]]\n",
    "    if p.left is None:\n",
    "        p.left = created[i]\n",
    "    else:\n",
    "        p.right = created[i]\n",
    "            \n",
    "def tree(node):\n",
    "    created=[None for i in range(len(node)+1)]\n",
    "    root=[None]\n",
    "    for i in range(len(node)):\n",
    "        crnode(i, node, root, created)\n",
    "    return root[0]\n",
    "        \n",
    "def inorder(root): \n",
    "    if root is not None: \n",
    "        inorder(root.left) \n",
    "        print (root.value)\n",
    "        inorder(root.right) \n",
    "  \n",
    "# Driver Method \n",
    "parent = [-1, 0, 0, 1, 1, 3, 5]\n",
    "root = tree(parent) \n",
    "print (\"Inorder Traversal of constructed tree\")\n",
    "inorder(root) "
   ]
  },
  {
   "cell_type": "code",
   "execution_count": 36,
   "metadata": {},
   "outputs": [
    {
     "name": "stdout",
     "output_type": "stream",
     "text": [
      "    #\n",
      "   ##\n",
      "  ###\n",
      " ####\n",
      "#####\n"
     ]
    }
   ],
   "source": [
    "def staircase(num_stairs):\n",
    "    n = num_stairs - 2\n",
    "    for stairs in range(1, num_stairs):\n",
    "        print(' ' * n, '#' * stairs)\n",
    "        n -= 1\n",
    "    print('#' * num_stairs)\n",
    "staircase(5)"
   ]
  },
  {
   "cell_type": "code",
   "execution_count": 44,
   "metadata": {},
   "outputs": [
    {
     "data": {
      "text/plain": [
       "'12:45:54'"
      ]
     },
     "execution_count": 44,
     "metadata": {},
     "output_type": "execute_result"
    }
   ],
   "source": [
    "def timeConversion(s):\n",
    "    #\n",
    "    # Write your code here.\n",
    "    #\n",
    "    if s[8:]=='AM' and s[:2]=='12':\n",
    "        s=s.replace(s[:2],'00')\n",
    "    elif s[8:]=='PM' and int(s[:2])!=12:\n",
    "        s=s.replace(s[:2],str(int(s[:2])+12))\n",
    "    return s[:8]\n",
    "timeConversion('12:45:54PM')"
   ]
  },
  {
   "cell_type": "code",
   "execution_count": 66,
   "metadata": {},
   "outputs": [
    {
     "data": {
      "text/plain": [
       "8"
      ]
     },
     "execution_count": 66,
     "metadata": {},
     "output_type": "execute_result"
    }
   ],
   "source": [
    "s=[[2, 3], [4, 7]]\n",
    "s[0][0]+s[1][0]\n",
    "import math\n",
    "math.ceil(float(math.sqrt(54)))"
   ]
  },
  {
   "cell_type": "code",
   "execution_count": 63,
   "metadata": {},
   "outputs": [
    {
     "name": "stdout",
     "output_type": "stream",
     "text": [
      "{2}\n",
      "{2}\n"
     ]
    },
    {
     "data": {
      "text/plain": [
       "'Possible'"
      ]
     },
     "execution_count": 63,
     "metadata": {},
     "output_type": "execute_result"
    }
   ],
   "source": [
    "def organizingContainers(container):\n",
    "    a=[]\n",
    "    b=[]\n",
    "    \n",
    "    for i in range(len(container)):\n",
    "        c=0\n",
    "        a.append(sum(container[i]))\n",
    "        for j in range(len(container)):\n",
    "            c+=container[j][i]\n",
    "        b.append(c)\n",
    "    print (set(a))\n",
    "    print (set(b))\n",
    "    if set(a)==set(b):\n",
    "        return ('Possible')\n",
    "    else:\n",
    "        return ('Impossible')\n",
    "organizingContainers([[1, 1], [1, 1]])"
   ]
  },
  {
   "cell_type": "code",
   "execution_count": 77,
   "metadata": {},
   "outputs": [
    {
     "data": {
      "text/plain": [
       "'fto ehg ee dd'"
      ]
     },
     "execution_count": 77,
     "metadata": {},
     "output_type": "execute_result"
    }
   ],
   "source": [
    "s='feedthedog'\n",
    "import math\n",
    "def encryption(s):\n",
    "    s=s.replace(' ', '')\n",
    "    L=len(s)\n",
    "    a=math.floor(float(math.sqrt(L)))\n",
    "    b=math.ceil(float(math.sqrt(L)))\n",
    "    l=list(range(a,b+1))\n",
    "    for i in range(len(l)):\n",
    "        for j in range(i, len(l)):\n",
    "            if ((l[i]*l[j])>=L):\n",
    "                row=l[i]\n",
    "                col=l[j]\n",
    "                break\n",
    "    j=[None]*row\n",
    "    for i in range(col):\n",
    "        j[i]=s[col*i:col*(i+1)]\n",
    "    for i in range(row):\n",
    "        if len(j[i])!=col:\n",
    "            x=col-len(j[i])\n",
    "            while(x!=0):\n",
    "                j[i]=j[i]+' '\n",
    "                x-=1\n",
    "    z=[]\n",
    "    for i in range(row):\n",
    "        for p in range(col):\n",
    "            z.append(j[p][i])\n",
    "    #x=''.join(z[6:9])\n",
    "    #print (x)\n",
    "    x=[]\n",
    "    for i in range(0, col):\n",
    "        x.append(''.join(z[col*i:col*(i+1)]))\n",
    "        x[i]=x[i].rstrip()\n",
    "    return ' '.join(x)\n",
    "encryption(s)"
   ]
  },
  {
   "cell_type": "code",
   "execution_count": 86,
   "metadata": {},
   "outputs": [
    {
     "data": {
      "text/plain": [
       "[1, 32, 4]"
      ]
     },
     "execution_count": 86,
     "metadata": {},
     "output_type": "execute_result"
    }
   ],
   "source": [
    "def hourglassSum(arr):\n",
    "    a=[]\n",
    "    for i in range(4):\n",
    "        for j in range(4):\n",
    "            a.append(sum(arr[i][j:j+3])+sum(arr[i+2][j:j+3])+arr[i+1][j+1])\n",
    "    return max(a)"
   ]
  },
  {
   "cell_type": "code",
   "execution_count": 35,
   "metadata": {},
   "outputs": [
    {
     "data": {
      "text/plain": [
       "[[1, 2], [None, None], [None, None]]"
      ]
     },
     "execution_count": 35,
     "metadata": {},
     "output_type": "execute_result"
    }
   ],
   "source": [
    "a=[[None]*2 for _ in range(3)]\n",
    "a[0][1]=1\n",
    "a[0].pop(0)\n",
    "a[0].append(2)\n",
    "a"
   ]
  },
  {
   "cell_type": "code",
   "execution_count": 47,
   "metadata": {},
   "outputs": [
    {
     "data": {
      "text/plain": [
       "[7, 3]"
      ]
     },
     "execution_count": 47,
     "metadata": {},
     "output_type": "execute_result"
    }
   ],
   "source": [
    "def dynamicArray(n, queries):\n",
    "    # Write your code here\n",
    "    a=[[None]*2 for _ in range(n)]\n",
    "    b=[]\n",
    "    lastAnswer=0\n",
    "    for i in range(len(queries)):\n",
    "        if queries[i][0]==1:\n",
    "            if a[(queries[i][1]^lastAnswer)%n][0] is None:\n",
    "                a[(queries[i][1]^lastAnswer)%n][1]=queries[i][2]\n",
    "                a[(queries[i][1]^lastAnswer)%n].pop(0)\n",
    "            elif a[(queries[i][1]^lastAnswer)%n][0] is not None:\n",
    "                a[(queries[i][1]^lastAnswer)%n].append(queries[i][2])\n",
    "        elif queries[i][0]==2:\n",
    "            lastAnswer=a[(queries[i][1]^lastAnswer)%n][queries[i][2]%]\n",
    "            b.append(lastAnswer)\n",
    "    return b\n",
    "dynamicArray(2,[[1, 0, 5], [1, 1, 7], [1, 0, 3], [2, 1, 0], [2, 1, 1]])"
   ]
  },
  {
   "cell_type": "code",
   "execution_count": 37,
   "metadata": {},
   "outputs": [
    {
     "data": {
      "text/plain": [
       "[0, 5, 5, 5, 0, 0, 5, 5, 5, 0]"
      ]
     },
     "execution_count": 37,
     "metadata": {},
     "output_type": "execute_result"
    }
   ],
   "source": [
    "s=[[1, 0, 5], [1, 1, 7], [1, 0, 3], [2, 1, 0], [2, 1, 1]]\n",
    "a=[[None]*2 for _ in range(2)]\n",
    "s[0][0]\n",
    "s=[0]*5\n",
    "q=s\n",
    "s[1:4]=[5]*(len(s)-2)"
   ]
  },
  {
   "cell_type": "code",
   "execution_count": 7,
   "metadata": {},
   "outputs": [
    {
     "data": {
      "text/plain": [
       "[3, 1, 3]"
      ]
     },
     "execution_count": 7,
     "metadata": {},
     "output_type": "execute_result"
    }
   ],
   "source": [
    "s=['aba', 'baba', 'aba', 'xzxb']\n",
    "q=['aba', 'xzxb', 'ab']\n",
    "def f(s,q):\n",
    "    x=[]\n",
    "    \n",
    "    for i in q:\n",
    "        y=0\n",
    "        for j in s:\n",
    "            if i in j:\n",
    "                y+=1\n",
    "        x.append(y)\n",
    "    return x\n",
    "f(s,q)"
   ]
  },
  {
   "cell_type": "code",
   "execution_count": 51,
   "metadata": {},
   "outputs": [
    {
     "data": {
      "text/plain": [
       "200"
      ]
     },
     "execution_count": 51,
     "metadata": {},
     "output_type": "execute_result"
    }
   ],
   "source": [
    "queries=[[1, 2, 100], [2, 5, 100], [3, 4, 100]]\n",
    "n=5\n",
    "def arrayManipulation(n, queries):\n",
    "    s=[0]*n\n",
    "    for i in range(len(queries)):\n",
    "        for j in range(queries[i][0]-1,queries[i][1]):\n",
    "            s[j]+=queries[i][2]\n",
    "    return max(s)\n",
    "arrayManipulation(n, queries)"
   ]
  },
  {
   "cell_type": "code",
   "execution_count": 63,
   "metadata": {},
   "outputs": [
    {
     "name": "stdout",
     "output_type": "stream",
     "text": [
      "[3]\n",
      "3\n",
      "3\n",
      "5\n",
      "[1, 3]\n",
      "3\n",
      "1\n",
      "5\n",
      "[1, 2, 3]\n",
      "3\n",
      "2\n",
      "5\n",
      "[1, 2, 3, 5]\n",
      "3\n",
      "5\n",
      "5\n",
      "[1, 2, 3, 4, 5]\n",
      "3\n",
      "4\n",
      "5\n",
      "[1]\n",
      "1\n",
      "1\n",
      "5\n",
      "[1, 2]\n",
      "1\n",
      "2\n",
      "6\n",
      "[1, 2, 5]\n",
      "1\n",
      "5\n",
      "7\n",
      "[1, 2, 4, 5]\n",
      "1\n",
      "4\n",
      "7\n",
      "[2]\n",
      "2\n",
      "2\n",
      "7\n",
      "[2, 5]\n",
      "2\n",
      "5\n",
      "8\n",
      "[2, 4, 5]\n",
      "2\n",
      "4\n",
      "8\n",
      "[5]\n",
      "5\n",
      "5\n",
      "8\n",
      "[4, 5]\n",
      "5\n",
      "4\n",
      "8\n",
      "[4]\n",
      "4\n",
      "4\n",
      "8\n",
      "8\n"
     ]
    }
   ],
   "source": [
    "a=[3, 1, 2, 5, 4]\n",
    "b=sorted(a)\n",
    "x=len(a)\n",
    "for i in range(len(a)+1):\n",
    "    for j in range(i+1, len(a)+1):\n",
    "        print(sorted(a[i:j]))\n",
    "        f=a[i:j].pop(0)\n",
    "        g=a[i:j].pop(-1)\n",
    "        print(f)\n",
    "        print(g)\n",
    "        if sorted(a[i:j])==a[i:j] and (f-g)!=0 and i!=j:\n",
    "            x+=1\n",
    "        else:\n",
    "            pass\n",
    "        print(x)\n",
    "for i in range(len(a)):\n",
    "    for j in range(i+1, len(a)):\n",
    "        if a[i]==a[j]:\n",
    "            x-=1\n",
    "print(x)"
   ]
  },
  {
   "cell_type": "code",
   "execution_count": 10,
   "metadata": {},
   "outputs": [
    {
     "data": {
      "text/plain": [
       "13"
      ]
     },
     "execution_count": 10,
     "metadata": {},
     "output_type": "execute_result"
    }
   ],
   "source": [
    "def gradingStudents(grades):\n",
    "    # Write your code here\n",
    "    for i in range(len(grades)):\n",
    "        if grades[i]<38:\n",
    "            pass\n",
    "        a=int(grades[i]/5)+1\n",
    "        if grades[i]>=38 and (a*5-grades[i])<3:\n",
    "            grades[i]=a*5\n",
    "        else:\n",
    "            pass\n",
    "    return grades"
   ]
  },
  {
   "cell_type": "code",
   "execution_count": 20,
   "metadata": {},
   "outputs": [
    {
     "data": {
      "text/plain": [
       "[1, 1]"
      ]
     },
     "execution_count": 20,
     "metadata": {},
     "output_type": "execute_result"
    }
   ],
   "source": [
    "def countApplesAndOranges(s, t, a, b, apples, oranges):\n",
    "    c=[0]*2\n",
    "    for i in range(len(apples)):\n",
    "        apples[i]+=a\n",
    "        if apples[i]<=t and apples[i]>=s:\n",
    "            c[0]+=1\n",
    "    for i in range(len(oranges)):\n",
    "        oranges[i]+=b\n",
    "        if oranges[i]<=t and oranges[i]>=s:\n",
    "            c[1]+=1\n",
    "    return c\n",
    "countApplesAndOranges(7, 11, 5, 15, [-2, 2, 1], [5, -6])"
   ]
  },
  {
   "cell_type": "code",
   "execution_count": 15,
   "metadata": {},
   "outputs": [
    {
     "data": {
      "text/plain": [
       "26"
      ]
     },
     "execution_count": 15,
     "metadata": {},
     "output_type": "execute_result"
    }
   ],
   "source": [
    "def getTotalX(a, b):\n",
    "    # Write your code here\n",
    "    x=[]\n",
    "    y=[]\n",
    "    v=[]\n",
    "    w=[]\n",
    "    for i in range(a[-1], b[0]+1):\n",
    "        for j in range(len(a)):\n",
    "            if i%a[j]==0:\n",
    "                x.append(i)\n",
    "    for i in range(a[-1], b[0]+1):\n",
    "        w.append(x.count(i))\n",
    "    for i in range(a[-1], b[0]+1):\n",
    "        for k in range(len(b)):\n",
    "            if b[k]%i==0:\n",
    "                y.append(i)\n",
    "    for i in range(a[-1], b[0]+1):\n",
    "        v.append(y.count(i))\n",
    "    ans=0\n",
    "    for i in range(len(w)):\n",
    "        if w[i]==len(a) and v[i]==len(b):\n",
    "            ans+=1\n",
    "    \n",
    "    \n",
    "    return ans"
   ]
  },
  {
   "cell_type": "code",
   "execution_count": 22,
   "metadata": {},
   "outputs": [
    {
     "name": "stdout",
     "output_type": "stream",
     "text": [
      "[1, 1, 1, 1, 1, 1, 0]\n"
     ]
    }
   ],
   "source": [
    "def breakingRecords(a):\n",
    "    mini=[]\n",
    "    maxi=[]\n",
    "    x=[0]*2\n",
    "    for i in range(1,len(a)+1):\n",
    "        mini.append(min(a[0:i]))\n",
    "    for i in range(len(mini)-1):\n",
    "        if mini[i+1]!=mini[i]:\n",
    "            x[1]+=1\n",
    "    \n",
    "    for i in range(1,len(a)+1):\n",
    "        maxi.append(max(a[0:i]))\n",
    "    for i in range(len(maxi)-1):\n",
    "        if maxi[i+1]!=maxi[i]:\n",
    "            x[0]+=1\n",
    "    return x"
   ]
  },
  {
   "cell_type": "code",
   "execution_count": null,
   "metadata": {},
   "outputs": [],
   "source": [
    "def birthday(s, d, m):\n",
    "    x=0\n",
    "    for i in range(len(s)):\n",
    "        if sum(s[i:i+m])==d:\n",
    "            x+=1\n",
    "    return x"
   ]
  },
  {
   "cell_type": "code",
   "execution_count": 49,
   "metadata": {},
   "outputs": [
    {
     "data": {
      "text/plain": [
       "[6, 4, 2, 1]"
      ]
     },
     "execution_count": 49,
     "metadata": {},
     "output_type": "execute_result"
    }
   ],
   "source": [
    "def climbingLeaderboard(scores, alice):\n",
    "    rank=[]\n",
    "    alas=[]\n",
    "    x=1\n",
    "    rank.append(x)\n",
    "    for i in range(len(scores)-1):\n",
    "        if scores[i]==scores[i+1]:\n",
    "            rank.append(x)\n",
    "        else:\n",
    "            x+=1\n",
    "            rank.append(x)\n",
    "    for i in range(len(alice)):\n",
    "        for j in range(len(scores)-1,-1,-1):\n",
    "            if alice[i]<scores[-1]:\n",
    "                alas.append(rank[-1]+1)\n",
    "                break\n",
    "            elif alice[i]==scores[j]:\n",
    "                alas.append(rank[j])\n",
    "                break\n",
    "            elif alice[i]<scores[j-1] and alice[i]>scores[j]:\n",
    "                alas.append(rank[j-1]+1)\n",
    "                break\n",
    "            elif alice[i]>max(scores):\n",
    "                alas.append(1)\n",
    "                break\n",
    "    return alas\n",
    "climbingLeaderboard([100, 100, 50, 40, 40, 20, 10], [5, 25, 50, 120])"
   ]
  },
  {
   "cell_type": "code",
   "execution_count": 54,
   "metadata": {},
   "outputs": [
    {
     "data": {
      "text/plain": [
       "15511210043330985984000000"
      ]
     },
     "execution_count": 54,
     "metadata": {},
     "output_type": "execute_result"
    }
   ],
   "source": [
    "import math\n",
    "def blah(n):\n",
    "    return math.factorial(n)\n",
    "blah(25)"
   ]
  },
  {
   "cell_type": "code",
   "execution_count": 20,
   "metadata": {},
   "outputs": [
    {
     "name": "stdout",
     "output_type": "stream",
     "text": [
      "[32, 1, 4, 6, 25]\n"
     ]
    },
    {
     "data": {
      "text/plain": [
       "6"
      ]
     },
     "execution_count": 20,
     "metadata": {},
     "output_type": "execute_result"
    }
   ],
   "source": [
    "s=[1,4,25,6,32,6,4,6]\n",
    "def migratoryBirds(arr):\n",
    "    \n",
    "    a=list(set(arr))\n",
    "    x=[0]*len(a)\n",
    "    for i in range(len(a)):\n",
    "        \n",
    "        for j in range(len(arr)):\n",
    "            if a[i]==arr[j]:\n",
    "                x[i]+=1\n",
    "    \n",
    "    return a[x.index(max(x))]\n",
    "migratoryBirds(s)"
   ]
  },
  {
   "cell_type": "code",
   "execution_count": 83,
   "metadata": {},
   "outputs": [
    {
     "data": {
      "text/plain": [
       "'fedcbabdc'"
      ]
     },
     "execution_count": 83,
     "metadata": {},
     "output_type": "execute_result"
    }
   ],
   "source": [
    "from itertools import permutations\n",
    "def req(a):\n",
    "    perms = sorted([''.join(p) for p in permutations(a)])\n",
    "    for i in range(len(perms)):\n",
    "        if perms[i]==a and perms[-1]!=a:\n",
    "            j=i\n",
    "            while((perms[j])<=(perms[i])):\n",
    "                j+=1\n",
    "            return perms[j]\n",
    "            \n",
    "        elif perms[i]==a and perms[-1]==a:\n",
    "            return('no answer')\n",
    "req('fedcbabcd')"
   ]
  },
  {
   "cell_type": "code",
   "execution_count": 62,
   "metadata": {},
   "outputs": [
    {
     "data": {
      "text/plain": [
       "'fedcbabdc'"
      ]
     },
     "execution_count": 62,
     "metadata": {},
     "output_type": "execute_result"
    }
   ],
   "source": [
    "def prevPermutation(str): \n",
    "      \n",
    "    # Find index of the last element \n",
    "    # of the string\n",
    "  \n",
    "    # Find largest index i such that  \n",
    "    # str[i ? 1] > str[i] \n",
    "    i = len(str)-1\n",
    "    \n",
    "    while (i > 0 and str[i - 1] >= str[i]): \n",
    "        i -= 1\n",
    "  \n",
    "    # if string is sorted in ascending order \n",
    "    # we're at the last permutation \n",
    "    if ''.join(sorted(str,reverse=True))==str: \n",
    "        return ('no answer')\n",
    "  \n",
    "    # Note - str[i..n] is sorted in  \n",
    "    # ascending order \n",
    "  \n",
    "    # Find rightmost element's index  \n",
    "    # that is less than str[i - 1] \n",
    "    j = i - 1\n",
    "    while (j + 1 <= len(str)-1 and \n",
    "           str[j + 1] > str[i - 1]): \n",
    "        j += 1\n",
    "  \n",
    "    # Swap character at i-1 with j \n",
    "    str = list(str) \n",
    "    temp = str[i - 1] \n",
    "    str[i - 1] = str[j] \n",
    "    str[j] = temp \n",
    "    str = ''.join(str) \n",
    "  \n",
    "    # Reverse the substring [i..n] \n",
    "    #str[::-1] \n",
    "      \n",
    "    return str[0:i]+''.join(sorted(str[i:]))\n",
    "prevPermutation('fedcbabcd')"
   ]
  },
  {
   "cell_type": "code",
   "execution_count": 101,
   "metadata": {},
   "outputs": [
    {
     "name": "stdout",
     "output_type": "stream",
     "text": [
      "1 9 45 55 99 "
     ]
    }
   ],
   "source": [
    "def kaprekarNumbers(p, q):\n",
    "    x=0\n",
    "    ans=[]\n",
    "    for i in range(p,q+1):\n",
    "        square=i*i\n",
    "        a=len(str(square))\n",
    "        b=len(str(i))\n",
    "        #print(a)\n",
    "        #print(b)\n",
    "        square=str(square)\n",
    "        #print(square)\n",
    "        r=square[a-b:]\n",
    "        if a-b==0:\n",
    "            l=0\n",
    "        else:\n",
    "            l=square[:a-b]\n",
    "        #print(l)\n",
    "        #print(r)\n",
    "        \n",
    "        if int(l)+int(r)==int(i):\n",
    "            print(i,end=' ')\n",
    "            x+=1\n",
    "        else:\n",
    "            pass\n",
    "    if x==0:\n",
    "        print('INVALID RANGE')\n",
    "kaprekarNumbers(1, 100)"
   ]
  },
  {
   "cell_type": "code",
   "execution_count": 105,
   "metadata": {},
   "outputs": [
    {
     "data": {
      "text/plain": [
       "3"
      ]
     },
     "execution_count": 105,
     "metadata": {},
     "output_type": "execute_result"
    }
   ],
   "source": [
    "def beautifulTriplets(d, arr):\n",
    "    x=0\n",
    "    for i in range(len(arr)):\n",
    "        if arr[i]+d in arr and arr[i]+2*d in arr:\n",
    "            x+=1\n",
    "    return x\n",
    "beautifulTriplets(3, [1,2,4,5,7,8,10])"
   ]
  },
  {
   "cell_type": "code",
   "execution_count": 114,
   "metadata": {},
   "outputs": [
    {
     "data": {
      "text/plain": [
       "9917"
      ]
     },
     "execution_count": 114,
     "metadata": {},
     "output_type": "execute_result"
    }
   ],
   "source": [
    "def howManyGames(p, d, m, s):\n",
    "    # Return the number of games you can buy\n",
    "    i=0\n",
    "    a=[]\n",
    "    a.append(p)\n",
    "    while(a[i]-d>m):\n",
    "        a.append(a[i]-d)\n",
    "        i+=1\n",
    "    j=0\n",
    "    while(s>=0 and j<len(a)):\n",
    "        s-=a[j]\n",
    "        j+=1\n",
    "    if s<=0:\n",
    "        return j-1\n",
    "\n",
    "    else:\n",
    "        while(s>=0):\n",
    "            s-=m\n",
    "            j+=1\n",
    "        return j-1\n",
    "howManyGames(16,2,1,9981)"
   ]
  },
  {
   "cell_type": "code",
   "execution_count": 125,
   "metadata": {},
   "outputs": [
    {
     "name": "stdout",
     "output_type": "stream",
     "text": [
      "1\n",
      "0\n",
      "1\n",
      "2\n"
     ]
    },
    {
     "data": {
      "text/plain": [
       "3"
      ]
     },
     "execution_count": 125,
     "metadata": {},
     "output_type": "execute_result"
    }
   ],
   "source": [
    "def findDigits(n):\n",
    "    x=0\n",
    "    for i in range(len(str(n))):\n",
    "        n=str(n)\n",
    "        if int(n[i])!=0:\n",
    "            if int(n)%int(n[i])==0:\n",
    "                x+=1\n",
    "        else:\n",
    "            pass\n",
    "    return x\n",
    "findDigits(1012)"
   ]
  },
  {
   "cell_type": "code",
   "execution_count": 128,
   "metadata": {},
   "outputs": [
    {
     "data": {
      "text/plain": [
       "25"
      ]
     },
     "execution_count": 128,
     "metadata": {},
     "output_type": "execute_result"
    }
   ],
   "source": [
    "def designerPdfViewer(h, word):\n",
    "    a=[]\n",
    "    for i in range(len(word)):\n",
    "        a.append(h[ord(word[i])-ord('a')])\n",
    "    return max(a)*len(word)"
   ]
  },
  {
   "cell_type": "code",
   "execution_count": null,
   "metadata": {},
   "outputs": [],
   "source": [
    "def utopianTree(n):\n",
    "    a=[1]\n",
    "    for i in range(1,n+1):\n",
    "        if i%2==0:\n",
    "            a.append(a[i-1]+1)\n",
    "        else:\n",
    "            a.append(2*a[i-1])\n",
    "    return a[n]"
   ]
  },
  {
   "cell_type": "code",
   "execution_count": 138,
   "metadata": {},
   "outputs": [],
   "source": [
    "def angryProfessor(k, a):\n",
    "    x=0\n",
    "    for i in range(len(a)):\n",
    "        if a[i]<=0:\n",
    "            x+=1\n",
    "    if x>=k:\n",
    "        return ('NO')\n",
    "    else:\n",
    "        return ('YES')"
   ]
  },
  {
   "cell_type": "code",
   "execution_count": 6,
   "metadata": {},
   "outputs": [
    {
     "data": {
      "text/plain": [
       "[8, 6, 4, 1]"
      ]
     },
     "execution_count": 6,
     "metadata": {},
     "output_type": "execute_result"
    }
   ],
   "source": [
    "ans=[]\n",
    "def cutTheSticks(arr):\n",
    "    \n",
    "    while arr!=[]:\n",
    "        n=len(arr)\n",
    "        ans.append(n)\n",
    "        arr=[arr[j]-min(arr) for j in range(n)]\n",
    "        for i in range(n):\n",
    "            if 0 in arr:\n",
    "                arr.remove(0)\n",
    "            else:\n",
    "                pass\n",
    "    \n",
    "    return ans\n",
    "cutTheSticks([1,2,3,4,3,3,2,1])"
   ]
  },
  {
   "cell_type": "code",
   "execution_count": 65,
   "metadata": {},
   "outputs": [
    {
     "data": {
      "text/plain": [
       "(5, 2)"
      ]
     },
     "execution_count": 65,
     "metadata": {},
     "output_type": "execute_result"
    }
   ],
   "source": [
    "\n",
    "topic=['10101', '11100', '11010', '00101']\n",
    "def acmTeam(topic):\n",
    "    ans=[]\n",
    "    \n",
    "    for i in range(len(topic)):\n",
    "        \n",
    "        for j in range(i+1, len(topic)):\n",
    "            x=0\n",
    "            for k in range(len(topic[0])):\n",
    "                \n",
    "                if topic[i][k]=='1' or topic[j][k]=='1':\n",
    "                    x+=1\n",
    "            ans.append(x)\n",
    "    a=max(ans)\n",
    "    \n",
    "    b=0\n",
    "    for i in range(len(ans)):\n",
    "       if ans[i]==a:\n",
    "        b+=1\n",
    "    return (a,b)\n",
    "acmTeam(topic)"
   ]
  },
  {
   "cell_type": "code",
   "execution_count": null,
   "metadata": {},
   "outputs": [],
   "source": [
    "def taumBday(b, w, bc, wc, z):\n",
    "    # Write your code here\n",
    "    if bc>wc+z:\n",
    "        return w*wc+b*(wc+z)\n",
    "    elif wc>bc+z:\n",
    "        return b*bc+w*(bc+z)\n",
    "    else:\n",
    "        return b*bc+w*wc"
   ]
  },
  {
   "cell_type": "code",
   "execution_count": 78,
   "metadata": {},
   "outputs": [
    {
     "name": "stdout",
     "output_type": "stream",
     "text": [
      "deque([1, 2, 3])\n",
      "deque([2, 3, 1])\n"
     ]
    },
    {
     "data": {
      "text/plain": [
       "<generator object circularArrayRotation.<locals>.<genexpr> at 0x7fac1c326938>"
      ]
     },
     "execution_count": 78,
     "metadata": {},
     "output_type": "execute_result"
    }
   ],
   "source": [
    "import collections\n",
    "def circularArrayRotation(a, k, queries):\n",
    "    d = collections.deque(a)\n",
    "    print(d)\n",
    "    d.rotate(k)\n",
    "    print(d)\n",
    "    return (d[i] for i in queries)\n",
    "circularArrayRotation([1,2,3],2,[0,1,2])"
   ]
  },
  {
   "cell_type": "code",
   "execution_count": 84,
   "metadata": {},
   "outputs": [
    {
     "data": {
      "text/plain": [
       "deque([1, 3, 5, 4, 2])"
      ]
     },
     "execution_count": 84,
     "metadata": {},
     "output_type": "execute_result"
    }
   ],
   "source": [
    "import collections\n",
    "def permutationEquation(p):\n",
    "    a=collections.deque([])\n",
    "    for i in range(1,len(p)+1):\n",
    "        for j in range(len(p)):\n",
    "            if p[j]==i:\n",
    "                a.append(j+1)\n",
    "    b=collections.deque([])            \n",
    "    for j in range(len(a)):\n",
    "        for i in range(len(p)):\n",
    "            if a[j]==p[i]:\n",
    "                b.append(i+1)\n",
    "    return b\n",
    "permutationEquation([4, 3, 5, 1, 2])"
   ]
  },
  {
   "cell_type": "code",
   "execution_count": 30,
   "metadata": {},
   "outputs": [
    {
     "data": {
      "text/plain": [
       "13548"
      ]
     },
     "execution_count": 30,
     "metadata": {},
     "output_type": "execute_result"
    }
   ],
   "source": [
    "def chocolateFeast(n, c, m):\n",
    "    y=0\n",
    "    a=n/c\n",
    "    y+=a\n",
    "    if a<m:\n",
    "        return y\n",
    "    else:\n",
    "        b=int(a/m)\n",
    "        y+=b\n",
    "        while (a%m+b>=m):\n",
    "            c=int((a%m+b)/m)\n",
    "            y+=c\n",
    "            a=b\n",
    "            b=c\n",
    "    return y\n",
    "\n",
    "int(chocolateFeast(81289, 6, 15168))"
   ]
  },
  {
   "cell_type": "code",
   "execution_count": 64,
   "metadata": {},
   "outputs": [
    {
     "name": "stdout",
     "output_type": "stream",
     "text": [
      "[32, 100, 38, 9, 10, 91, 45, 14, 54, 27, 29, 30, 63]\n",
      "[3, 1, 4, 1, 3, 1, 1, 1, 1, 2, 4, 2, 3]\n",
      "19\n"
     ]
    },
    {
     "data": {
      "text/plain": [
       "23"
      ]
     },
     "execution_count": 64,
     "metadata": {},
     "output_type": "execute_result"
    }
   ],
   "source": [
    "def equalizeArray(arr):\n",
    "    x=[]\n",
    "    brr=list(set(arr))\n",
    "    print(brr)\n",
    "    \n",
    "    for i in range(len(brr)):\n",
    "        a=0\n",
    "        for j in range(len(arr)):\n",
    "            if brr[i]==arr[j]:\n",
    "                a+=1\n",
    "        x.append(a)\n",
    "    print(x)\n",
    "    if x[0]==len(arr):\n",
    "        return 0\n",
    "    b=0\n",
    "    for i in range(len(x)):\n",
    "        if x[i]!=max(x):\n",
    "            b+=x[i]\n",
    "    print(b)\n",
    "    d=x.count(max(x))\n",
    "    if d>1:\n",
    "        b+=(d-1)*max(x)\n",
    "    if b==0:\n",
    "        return (len(arr)-1)\n",
    "    else:\n",
    "        return b\n",
    "equalizeArray([10 ,27, 9 ,10, 100 ,38 ,30 ,32 ,45, 29 ,27 ,29 ,32, 38, 32, 38, 14, 38, 29 ,30 ,63 ,29 ,63 ,91 ,54 ,10, 63])"
   ]
  },
  {
   "cell_type": "code",
   "execution_count": 49,
   "metadata": {},
   "outputs": [
    {
     "data": {
      "text/plain": [
       "['1112', '1X12', '18X2', '1234']"
      ]
     },
     "execution_count": 49,
     "metadata": {},
     "output_type": "execute_result"
    }
   ],
   "source": [
    "grid=['1112', '1912', '1892', '1234']\n",
    "def cavityMap(grid):\n",
    "    n=len(grid)\n",
    "    for i in range(1,n-1):\n",
    "        \n",
    "        for j in range(1,n-1):\n",
    "            \n",
    "            if grid[i][j]>grid[i-1][j] and grid[i][j]>grid[i+1][j] and grid[i][j]>grid[i][j-1] and grid[i][j]>grid[i][j+1]:\n",
    "                \n",
    "                \n",
    "                grid[i]=list(grid[i])\n",
    "                grid[i][j]='X'\n",
    "                grid[i]=''.join(grid[i])\n",
    "    return grid\n",
    "cavityMap(grid)"
   ]
  },
  {
   "cell_type": "code",
   "execution_count": 41,
   "metadata": {},
   "outputs": [
    {
     "name": "stdout",
     "output_type": "stream",
     "text": [
      "X\n"
     ]
    }
   ],
   "source": [
    "grid=['1112', '1X92', '1892', '1234']\n",
    "print(grid[1][1])"
   ]
  },
  {
   "cell_type": "code",
   "execution_count": 14,
   "metadata": {},
   "outputs": [
    {
     "name": "stdout",
     "output_type": "stream",
     "text": [
      "Vertices of graph:\n",
      "['a', 'b', 'c', 'd', 'e', 'f']\n",
      "Edges of graph:\n",
      "[{'d', 'a'}, {'b', 'c'}, {'c'}, {'c', 'd'}, {'c', 'e'}]\n",
      "Add vertex:\n",
      "Vertices of graph:\n",
      "['a', 'b', 'c', 'd', 'e', 'f', 'z']\n",
      "Add an edge:\n",
      "Vertices of graph:\n",
      "['a', 'b', 'c', 'd', 'e', 'f', 'z']\n",
      "Edges of graph:\n",
      "[{'d', 'a'}, {'a', 'z'}, {'b', 'c'}, {'c'}, {'c', 'd'}, {'c', 'e'}]\n",
      "Adding an edge {\"x\",\"y\"} with new vertices:\n",
      "Vertices of graph:\n",
      "['a', 'b', 'c', 'd', 'e', 'f', 'z', 'x']\n",
      "Edges of graph:\n",
      "[{'d', 'a'}, {'a', 'z'}, {'b', 'c'}, {'c'}, {'c', 'd'}, {'c', 'e'}, {'x', 'y'}]\n",
      "DFS\n",
      "a\n",
      "d\n",
      "c\n",
      "b\n",
      "e\n",
      "z\n",
      "None\n"
     ]
    }
   ],
   "source": [
    "class Graph(object):\n",
    "\n",
    "    def __init__(self, graph_dict=None):\n",
    "        \"\"\" initializes a graph object \n",
    "            If no dictionary or None is given, \n",
    "            an empty dictionary will be used\n",
    "        \"\"\"\n",
    "        if graph_dict == None:\n",
    "            graph_dict = {}\n",
    "        self.__graph_dict = graph_dict\n",
    "\n",
    "    def vertices(self):\n",
    "        \"\"\" returns the vertices of a graph \"\"\"\n",
    "        return list(self.__graph_dict.keys())\n",
    "\n",
    "    def edges(self):\n",
    "        \"\"\" returns the edges of a graph \"\"\"\n",
    "        return self.__generate_edges()\n",
    "\n",
    "    def add_vertex(self, vertex):\n",
    "        \"\"\" If the vertex \"vertex\" is not in \n",
    "            self.__graph_dict, a key \"vertex\" with an empty\n",
    "            list as a value is added to the dictionary. \n",
    "            Otherwise nothing has to be done. \n",
    "        \"\"\"\n",
    "        if vertex not in self.__graph_dict:\n",
    "            self.__graph_dict[vertex] = []\n",
    "\n",
    "    def add_edge(self, edge):\n",
    "        \"\"\" assumes that edge is of type set, tuple or list; \n",
    "            between two vertices can be multiple edges! \n",
    "        \"\"\"\n",
    "        edge = set(edge)\n",
    "        (vertex1, vertex2) = tuple(edge)\n",
    "        if vertex1 in self.__graph_dict:\n",
    "            self.__graph_dict[vertex1].append(vertex2)\n",
    "        else:\n",
    "            self.__graph_dict[vertex1] = [vertex2]\n",
    "\n",
    "    def __generate_edges(self):\n",
    "        \"\"\" A static method generating the edges of the \n",
    "            graph \"graph\". Edges are represented as sets \n",
    "            with one (a loop back to the vertex) or two \n",
    "            vertices \n",
    "        \"\"\"\n",
    "        edges = []\n",
    "        for vertex in self.__graph_dict:\n",
    "            for neighbour in self.__graph_dict[vertex]:\n",
    "                if {neighbour, vertex} not in edges:\n",
    "                    edges.append({vertex, neighbour})\n",
    "        return edges\n",
    "\n",
    "    def __str__(self):\n",
    "        res = \"vertices: \"\n",
    "        for k in self.__graph_dict:\n",
    "            res += str(k) + \" \"\n",
    "        res += \"\\nedges: \"\n",
    "        for edge in self.__generate_edges():\n",
    "            res += str(edge) + \" \"\n",
    "        return res\n",
    "    \n",
    "    \n",
    "\n",
    "    def dfs(self, visited, node):\n",
    "        if node not in visited:\n",
    "            print (node),\n",
    "            visited.append(node)\n",
    "            for neighbour in self.__graph_dict[node]:\n",
    "                self.dfs(visited, neighbour)\n",
    "\n",
    "    \n",
    "\n",
    "    \n",
    "\n",
    "if __name__ == \"__main__\":\n",
    "\n",
    "    g = { \"a\" : [\"d\"],\n",
    "          \"b\" : [\"c\"],\n",
    "          \"c\" : [\"b\", \"c\", \"d\", \"e\"],\n",
    "          \"d\" : [\"a\", \"c\"],\n",
    "          \"e\" : [\"c\"],\n",
    "          \"f\" : []\n",
    "        }\n",
    "\n",
    "\n",
    "    graph = Graph(g)\n",
    "\n",
    "    print(\"Vertices of graph:\")\n",
    "    print(graph.vertices())\n",
    "\n",
    "    print(\"Edges of graph:\")\n",
    "    print(graph.edges())\n",
    "\n",
    "    print(\"Add vertex:\")\n",
    "    graph.add_vertex(\"z\")\n",
    "\n",
    "    print(\"Vertices of graph:\")\n",
    "    print(graph.vertices())\n",
    " \n",
    "    print(\"Add an edge:\")\n",
    "    graph.add_edge({\"a\",\"z\"})\n",
    "    \n",
    "    print(\"Vertices of graph:\")\n",
    "    print(graph.vertices())\n",
    "\n",
    "    print(\"Edges of graph:\")\n",
    "    print(graph.edges())\n",
    "\n",
    "    print('Adding an edge {\"x\",\"y\"} with new vertices:')\n",
    "    graph.add_edge({\"x\",\"y\"})\n",
    "    print(\"Vertices of graph:\")\n",
    "    print(graph.vertices())\n",
    "    print(\"Edges of graph:\")\n",
    "    print(graph.edges())\n",
    "    \n",
    "    print(\"DFS\")\n",
    "    print(graph.dfs([], 'a'))\n",
    "  \n",
    "\n",
    "\n"
   ]
  },
  {
   "cell_type": "code",
   "execution_count": null,
   "metadata": {},
   "outputs": [],
   "source": [
    "queue = []     #Initialize a queue\n",
    "\n",
    "    def bfs(visited, graph, node):\n",
    "      visited.append(node)\n",
    "      queue.append(node)\n",
    "\n",
    "      while queue:\n",
    "        s = queue.pop(0) \n",
    "        print (s, end = \" \") \n",
    "\n",
    "        for neighbour in graph[s]:\n",
    "          if neighbour not in visited:\n",
    "            visited.append(neighbour)\n",
    "            queue.append(neighbour)\n",
    "\n",
    "    # Driver Code\n",
    "    #bfs(visited, graph, 'A')"
   ]
  },
  {
   "cell_type": "code",
   "execution_count": 94,
   "metadata": {},
   "outputs": [
    {
     "name": "stdout",
     "output_type": "stream",
     "text": [
      "-1 - 0 \t 0\n",
      "0 - 1 \t 3\n",
      "0 - 2 \t 4\n",
      "1 - 3 \t 6\n",
      "1 - 4 \t 2\n"
     ]
    },
    {
     "data": {
      "text/plain": [
       "[True, True, True, True, True]"
      ]
     },
     "execution_count": 94,
     "metadata": {},
     "output_type": "execute_result"
    }
   ],
   "source": [
    "import math\n",
    "\n",
    "def minKey(key, mstSet, ver): \n",
    "  \n",
    "        # Initilaize min value \n",
    "        mini = math.inf\n",
    "  \n",
    "        for v in range(len(ver)): \n",
    "            if key[v] < mini and mstSet[v] == False: \n",
    "                mini = key[v] \n",
    "                min_index = v \n",
    "  \n",
    "        return min_index \n",
    "\n",
    "def prims(n, edges, start):\n",
    "    ver=[]\n",
    "    edge = []\n",
    "    \n",
    "    w=[edges[i][2] for i in range(len(edges))]\n",
    "    for j in edges: \n",
    "        del j[2]\n",
    "    for i in range(len(edges)):\n",
    "        for j in range(len(edges[i])-1):\n",
    "            if {edges[i][j], edges[i][j+1]} not in edge:\n",
    "                edge.append({edges[i][j], edges[i][j+1]})\n",
    "    for i in range(len(edge)):\n",
    "        for j in range(len(edge[i])):\n",
    "            if edges[i][j] not in ver:\n",
    "                ver.append(edges[i][j])\n",
    "    x=[[0]*len(ver) for _ in range(len(ver))]\n",
    "    for i in ver:\n",
    "        for j in ver:\n",
    "            for q in edge:\n",
    "                if i in q and j in q and j!=i:\n",
    "                    x[ver.index(j)][ver.index(i)]=w[edge.index(q)]\n",
    "                    x[ver.index(i)][ver.index(j)]=w[edge.index(q)]\n",
    "    \n",
    "                \n",
    "    mstSet = [False] * len(ver)\n",
    "    parent = [None] * len(ver)\n",
    "    key=[math.inf]*len(ver)\n",
    "    key[ver.index(start)]=0\n",
    "    parent[ver.index(start)]=-1\n",
    "    #while(len(ver)!=len(mstSet)):\n",
    "    for i in range(len(ver)):\n",
    "        u = minKey(key, mstSet, ver)\n",
    "        mstSet[u] = True\n",
    "        for v in range(len(ver)):\n",
    "            if x[u][v] > 0 and mstSet[v] == False and key[v] > x[u][v]:\n",
    "                key[v] = x[u][v]\n",
    "                parent[v] = u              \n",
    "                #key[ver.index(i)]=math.inf\n",
    "                #print(key)\n",
    "    ans=0\n",
    "    for i in range(0,len(ver)):\n",
    "        print (parent[i], \"-\", i, \"\\t\", x[i][ parent[i] ]) \n",
    "    return mstSet\n",
    "\n",
    "prims(5, [[1, 2, 3], [1, 3, 4], [4, 2, 6], [5, 2, 2], [2, 3, 5], [3, 5, 7]], 1)"
   ]
  },
  {
   "cell_type": "code",
   "execution_count": 8,
   "metadata": {},
   "outputs": [
    {
     "data": {
      "text/plain": [
       "inf"
      ]
     },
     "execution_count": 8,
     "metadata": {},
     "output_type": "execute_result"
    }
   ],
   "source": [
    "p=[{1, 2}, {1, 3}, {2, 4}, {2, 5}, {2, 3}, {3, 5}]\n",
    "1 in p[0]"
   ]
  },
  {
   "cell_type": "code",
   "execution_count": 142,
   "metadata": {},
   "outputs": [
    {
     "name": "stdout",
     "output_type": "stream",
     "text": [
      "[[0, 3, 4, 0, 0], [3, 0, 5, 6, 2], [4, 5, 0, 0, 7], [0, 6, 0, 0, 0], [0, 2, 7, 0, 0]]\n"
     ]
    }
   ],
   "source": [
    "edge=[{1, 2}, {1, 3}, {2, 4}, {2, 5}, {2, 3}, {3, 5}]\n",
    "ver=[1, 2, 3, 4, 5]\n",
    "w=[3, 4, 6, 2, 5, 7]\n",
    "x=[[0]*len(ver) for _ in range(len(ver))]\n",
    "for i in ver:\n",
    "    for j in ver:\n",
    "        for q in edge:\n",
    "            if i in q and j in q and j!=i:\n",
    "                x[ver.index(j)][ver.index(i)]=w[edge.index(q)] #adjacency matrix\n",
    "                x[ver.index(i)][ver.index(j)]=w[edge.index(q)]\n",
    "print(x)"
   ]
  },
  {
   "cell_type": "code",
   "execution_count": 193,
   "metadata": {},
   "outputs": [
    {
     "name": "stdout",
     "output_type": "stream",
     "text": [
      "{1: [2, 3], 2: [1], 3: [1, 4], 4: [3], 5: []}\n",
      "1 2 3 4 [6, 6, 12, -1]\n"
     ]
    }
   ],
   "source": [
    "edges=[[1, 2], [1, 3], [3, 4]]\n",
    "dicts = {}\n",
    "n=5\n",
    "ver=range(1,n+1)\n",
    "#values = [\"Hi\", \"I\", \"am\", \"John\"]\n",
    "for i in ver:\n",
    "    dicts[i]=[]\n",
    "    for x in edges:\n",
    "        if i in x:\n",
    "            dicts[i].append(x[x.index(i)-1])\n",
    "print(dicts)\n",
    "\n",
    "visited = [] # List to keep track of visited nodes.\n",
    "queue = []     #Initialize a queue\n",
    "ans=[]\n",
    "level = [None] * n\n",
    "def bfs(visited, graph, node):\n",
    "    level[node-1]=0\n",
    "    visited.append(node)\n",
    "    queue.append(node)\n",
    "    x=1\n",
    "    while queue:\n",
    "        \n",
    "        s = queue.pop(0) \n",
    "        print (s, end = \" \")\n",
    "        \n",
    "\n",
    "        for neighbour in graph[s]:\n",
    "            if neighbour not in visited:\n",
    "                visited.append(neighbour)\n",
    "                queue.append(neighbour)\n",
    "                level[neighbour-1] = level[s-1] + 1\n",
    "    for i in range(0,len(level)):\n",
    "        if level[i] is not None:\n",
    "            ans.append(level[i]*6)\n",
    "        else:\n",
    "            ans.append(-1)\n",
    "    b=ans\n",
    "    if 0 in b:\n",
    "        b.remove(0)\n",
    "    else:\n",
    "        pass\n",
    "    return b\n",
    "ans=bfs([], dicts, 1)\n",
    "print(ans)"
   ]
  },
  {
   "cell_type": "code",
   "execution_count": 196,
   "metadata": {},
   "outputs": [
    {
     "name": "stdout",
     "output_type": "stream",
     "text": [
      "[6, 6, -1]\n"
     ]
    }
   ],
   "source": [
    "def bfs(n, m, edges, s):\n",
    "    dicts = {}\n",
    "    ver=range(1,n+1)\n",
    "    #values = [\"Hi\", \"I\", \"am\", \"John\"]\n",
    "    for i in ver:\n",
    "        dicts[i]=[]\n",
    "        for x in edges:\n",
    "            if i in x:\n",
    "                dicts[i].append(x[x.index(i)-1]) #dictionary graph\n",
    "    #print(dicts)\n",
    "\n",
    "    visited = [] # List to keep track of visited nodes.\n",
    "    queue = []     #Initialize a queue\n",
    "    ans=[]\n",
    "    level = [None] * n\n",
    "    level[s-1]=0\n",
    "    visited.append(s)\n",
    "    queue.append(s)\n",
    "    \n",
    "    while queue:\n",
    "        \n",
    "        t = queue.pop(0) \n",
    "        #print (s, end = \" \")\n",
    "        \n",
    "\n",
    "        for neighbour in dicts[t]:\n",
    "            if neighbour not in visited:\n",
    "                visited.append(neighbour)\n",
    "                queue.append(neighbour)\n",
    "                level[neighbour-1] = level[t-1] + 1\n",
    "    for i in range(0,len(level)):\n",
    "        if level[i] is not None:\n",
    "            ans.append(level[i]*6)\n",
    "        else:\n",
    "            ans.append(-1)\n",
    "    b=ans\n",
    "    if 0 in b:\n",
    "        b.remove(0)\n",
    "    else:\n",
    "        pass\n",
    "    return b\n",
    "ans=bfs(4, 2, [[1, 2], [1, 3]], 1)\n",
    "print(ans)"
   ]
  },
  {
   "cell_type": "code",
   "execution_count": 201,
   "metadata": {},
   "outputs": [
    {
     "data": {
      "text/plain": [
       "5"
      ]
     },
     "execution_count": 201,
     "metadata": {},
     "output_type": "execute_result"
    }
   ],
   "source": [
    "def fibonacciModified(t1, t2, n):\n",
    "    ans=[]\n",
    "    ans.append(t1)\n",
    "    ans.append(t2)\n",
    "    for i in range(2,n):\n",
    "        ans.append(ans[i-1]**2+ans[i-2])\n",
    "    return ans[n-1]\n",
    "fibonacciModified(0,1,5)"
   ]
  },
  {
   "cell_type": "code",
   "execution_count": 92,
   "metadata": {},
   "outputs": [
    {
     "name": "stdout",
     "output_type": "stream",
     "text": [
      "[[True, True, False, False, False, False], [False, True, True, True, True, False], [False, False, True, True, True, False], [False, False, False, True, True, True]]\n"
     ]
    },
    {
     "data": {
      "text/plain": [
       "'YES'"
      ]
     },
     "execution_count": 92,
     "metadata": {},
     "output_type": "execute_result"
    }
   ],
   "source": [
    "def abbreviation(a, b):\n",
    "    m, n = len(a), len(b)\n",
    "    dp = [[False]*(m+1) for _ in range(n+1)]\n",
    "    dp[0][0] = True\n",
    "    for i in range(n+1):\n",
    "        for j in range(1,m+1):\n",
    "            if a[j-1] == b[i-1]:\n",
    "                dp[i][j] = dp[i-1][j-1]\n",
    "            elif a[j-1].upper() == b[i-1]:\n",
    "                dp[i][j] = dp[i-1][j-1] or dp[i][j-1]\n",
    "            elif a[j-1].islower():\n",
    "                dp[i][j] = dp[i][j-1]\n",
    "    print(dp)\n",
    "    return \"YES\" if dp[n][m] else \"NO\"\n",
    "\n",
    "a='bBccC'\n",
    "b='BBC'\n",
    "\n",
    "abbreviation(a, b)"
   ]
  },
  {
   "cell_type": "code",
   "execution_count": 18,
   "metadata": {},
   "outputs": [
    {
     "data": {
      "text/plain": [
       "489429555"
      ]
     },
     "execution_count": 18,
     "metadata": {},
     "output_type": "execute_result"
    }
   ],
   "source": [
    "def xorAndSum(a, b):\n",
    "    ans=0\n",
    "    a=int(str(a),2)\n",
    "    b=int(str(b),2)\n",
    "    for i in range(314160):\n",
    "        ans+=(a ^ b<<i)\n",
    "    return ans%(10**9+7)\n",
    "\n",
    "xorAndSum(10, 1010)"
   ]
  },
  {
   "cell_type": "code",
   "execution_count": 88,
   "metadata": {},
   "outputs": [
    {
     "data": {
      "text/plain": [
       "2"
      ]
     },
     "execution_count": 88,
     "metadata": {},
     "output_type": "execute_result"
    }
   ],
   "source": [
    "def addEdge(a, b):  \n",
    "  \n",
    "    adj[a].append(b)  \n",
    "    adj[b].append(a) \n",
    "    \n",
    "    \n",
    "\n",
    "def numberOfNodes(s, e):  \n",
    "  \n",
    "    count1[s] = 1\n",
    "    for u in adj[s]:  \n",
    "          \n",
    "        # Condition to omit reverse path  \n",
    "        # path from children to parent  \n",
    "        if u == e:  \n",
    "            continue\n",
    "          \n",
    "        # recursive call for DFS  \n",
    "        numberOfNodes( u, s)  \n",
    "          \n",
    "        # update count[] value of parent  \n",
    "        # using its children  \n",
    "        count1[s] += count1[u]\n",
    "    return count1\n",
    "# Complete the evenForest function below.\n",
    "def evenForest(t_nodes, t_edges, t_from, t_to):\n",
    "    global N\n",
    "    N = t_nodes+1\n",
    "    global count1  \n",
    "    count1 = [0] * (N)\n",
    "    \n",
    "    global adj\n",
    "    # Adjacency list representation of tree  \n",
    "    adj = [[] for i in range(N)]\n",
    "    \n",
    "    for i in range(len(t_from)):\n",
    "    # insertion of nodes in graph  \n",
    "        addEdge(t_from[i], t_to[i])\n",
    "    count1=numberOfNodes(1, 0)\n",
    "    \n",
    "    ans=[count1[i] for i in range(2,len(count1)) if count1[i]%2==0]\n",
    "    return len(ans)\n",
    "    # variables used to store data globally  \n",
    "     \n",
    "\n",
    "evenForest(10, 9, [2, 3, 4, 5, 6, 7, 8, 9, 10], [1, 1, 3, 2, 1, 2, 6, 8, 8])"
   ]
  },
  {
   "cell_type": "code",
   "execution_count": 23,
   "metadata": {},
   "outputs": [
    {
     "data": {
      "text/plain": [
       "6"
      ]
     },
     "execution_count": 23,
     "metadata": {},
     "output_type": "execute_result"
    }
   ],
   "source": [
    "def journeyToMoon(n, edges):\n",
    "    global dicts\n",
    "    dicts = {}\n",
    "    global ver\n",
    "    ver=range(0,n)\n",
    "    #values = [\"Hi\", \"I\", \"am\", \"John\"]\n",
    "    for i in ver:\n",
    "        dicts[i]=[]\n",
    "        for x in edges:\n",
    "            if i in x:\n",
    "                dicts[i].append(x[x.index(i)-1]) #dictionary graph\n",
    "    \n",
    "    cc = connectedComponents()\n",
    "    cc1 = [len(cc[i]) for i in range(len(cc))]\n",
    "    sum=0\n",
    "    for i in range(len(cc1)-1):\n",
    "        for j in range(i+1,len(cc1)):\n",
    "            sum+=cc1[i]*cc1[j]\n",
    "    return sum\n",
    "    \n",
    "def DFSUtil(temp, v, visited): \n",
    "  \n",
    "        # Mark the current vertex as visited \n",
    "    visited[v] = True\n",
    "\n",
    "    # Store the vertex to list \n",
    "    temp.append(v) \n",
    "\n",
    "    # Repeat for all vertices adjacent \n",
    "    # to this vertex v \n",
    "    for i in dicts[v]: \n",
    "        if visited[i] == False: \n",
    "\n",
    "            # Update the list \n",
    "            temp = DFSUtil(temp, i, visited) \n",
    "    return temp \n",
    "            \n",
    "def connectedComponents(): \n",
    "    visited = [] \n",
    "    cc = [] \n",
    "    for i in range(len(ver)): \n",
    "        visited.append(False) \n",
    "    for v in range(len(ver)): \n",
    "        if visited[v] == False: \n",
    "            temp = [] \n",
    "            cc.append(DFSUtil(temp, v, visited)) \n",
    "    return cc\n",
    "        \n",
    "n=5\n",
    "edges=[[0, 1], [2, 3], [0, 4]]\n",
    "journeyToMoon(n, edges)"
   ]
  },
  {
   "cell_type": "code",
   "execution_count": 108,
   "metadata": {},
   "outputs": [
    {
     "data": {
      "text/plain": [
       "[0, 1, 0, 1, 2, 1, 0, 1]"
      ]
     },
     "execution_count": 108,
     "metadata": {},
     "output_type": "execute_result"
    }
   ],
   "source": [
    "import numpy as np\n",
    "def cost(B):\n",
    "    ans=[0]*len(B)\n",
    "    for i in range(len(B)):\n",
    "        ans[i]=list(range(1,B[i]+1))\n",
    "    c=[]\n",
    "    for p in range(len(ans)-1):\n",
    "        for i in ans[p]:\n",
    "            for j in ans[p+1]:\n",
    "                c.append(abs(i-j))\n",
    "    x=0\n",
    "    a=0\n",
    "    for i in range(len(B)-1):\n",
    "        #print(a)\n",
    "        x+=max(c[a:(B[i]*B[i+1])+a])\n",
    "        a=B[i]*B[i+1]\n",
    "        #print(x)\n",
    "        \n",
    "    return c\n",
    "\n",
    "cost([1,2,3])"
   ]
  },
  {
   "cell_type": "code",
   "execution_count": 121,
   "metadata": {},
   "outputs": [
    {
     "name": "stdout",
     "output_type": "stream",
     "text": [
      "{'T': '1', 'e': '2', 's': '3', 't': '4', 'i': '5', 'n': '6', 'g': '7', ' ': '8', 'f': '9', 'o': '10', 'r': '11', ' t': '12', 'h': '13', 'e ': '14', 'p': '15', 'ro': '16', 'j': '17', 'ec': '18', 't ': '19', 'on': '20', ' i': '21', 'm': '22', 'pl': '23', 'em': '24', 'en': '25', 'ti': '26', 'ng': '27', ' L': '28', 'a': '29', 'mp': '30', 'el': '31', ' Z': '32', 'iv': '33', ' a': '34', 'l': '35', 'go': '36', 'ri': '37', 'th': '38', 'm ': '39', 'tha': '40', 't h': '41', 'as': '42', ' b': '43', 'ee': '44', 'n ': '45', 'al': '46', 'lo': '47', 'tt': '48', 'ed': '49', ' in': '50', ' th': '51', 'e c': '52', 'ou': '53', 'rs': '54', 'e n': '55', 'am': '56', 'ed ': '57', 'I': '58', 'nf': '59', 'or': '60', 'ma': '61', 'tio': '62', 'n a': '63', 'nd': '64', ' C': '65', 'od': '66', 'in': '67', 'g ': '68', 'Th': '69', 'eo': '70', 'ry': '71'}\n",
      "0T0e0s0t0i0n0g0 0f0o0r8t0h2 0p11o0j2c4 10n8i0m15l2m2n4i6g8L0a22p2l8Z5v8a0l7o11i4h22 38a19h29s8b2e6 29l35o4t2d21n12h14c10u11s14n29m49 0I6f10r22a26o45a6d8C10d5n7 1h2o11y\n"
     ]
    }
   ],
   "source": [
    "a=\"aabaacabcabcb\"\n",
    "b=\"101011011010101011\"\n",
    "c=\"Testing for the project on implementing Lampel Ziv algorithm that has been allotted in the course named Information and Coding Theory\"\n",
    "\n",
    "def LZ78(text):\n",
    "    ans=[]\n",
    "    dit = {text[0]: '1'}\n",
    "    ans.append('0' + text[0])\n",
    "    text = text[1:]\n",
    "    combination = ''\n",
    "    code = 2\n",
    "    for char in text:\n",
    "        combination += char\n",
    "        if combination not in dit:\n",
    "            dit[combination] = str(code)\n",
    "            if len(combination) == 1:\n",
    "                ans.append('0' + combination)\n",
    "            else:\n",
    "                #ans.append(bin(int(dit[combination[0:-1]])).replace(\"0b\", \"\") + combination[-1])\n",
    "                ans.append(dit[combination[0:-1]]+ combination[-1])\n",
    "            code += 1\n",
    "            combination = ''\n",
    "    print(dit)\n",
    "    return ''.join(ans)\n",
    "x=LZ78(c)\n",
    "print(x)"
   ]
  },
  {
   "cell_type": "code",
   "execution_count": 118,
   "metadata": {},
   "outputs": [
    {
     "data": {
      "text/plain": [
       "'101011011010101011'"
      ]
     },
     "execution_count": 118,
     "metadata": {},
     "output_type": "execute_result"
    }
   ],
   "source": [
    "def decode_LZ78(text):\n",
    "    ans=[]\n",
    "    dit = {'0': '', '1': text[1]}\n",
    "    ans.append(dit['1'])\n",
    "    text = text[2:]\n",
    "    combination = ''\n",
    "    code = 2\n",
    "    for i in range(len(text)):\n",
    "        if i%2==0:\n",
    "            \n",
    "            combination += text[i]\n",
    "            #print(combination)\n",
    "        else:\n",
    "            \n",
    "            dit[str(code)] = dit[combination] + text[i]\n",
    "            ans.append(dit[combination] + text[i])\n",
    "            combination = ''\n",
    "            code += 1\n",
    "    #print(dict_of_codes)\n",
    "    return ''.join(ans)\n",
    "decode_LZ78(x)"
   ]
  },
  {
   "cell_type": "code",
   "execution_count": 120,
   "metadata": {},
   "outputs": [
    {
     "data": {
      "text/plain": [
       "'aabaacabcabcb'"
      ]
     },
     "execution_count": 120,
     "metadata": {},
     "output_type": "execute_result"
    }
   ],
   "source": [
    "def decode_LZ78(text):\n",
    "    ans=[]\n",
    "    dit = {'0': '', '1': text[1]}\n",
    "    #print(dit)\n",
    "    ans.append(dit['1'])\n",
    "    text = text[2:]\n",
    "    combination = ''\n",
    "    code = 2\n",
    "    for i in text:\n",
    "        if i in '1234567890':\n",
    "            \n",
    "            combination += i\n",
    "            #print(combination)\n",
    "        else:\n",
    "            \n",
    "            dit[str(code)] = dit[combination] + i\n",
    "            ans.append(dit[combination] + i)\n",
    "            combination = ''\n",
    "            code += 1\n",
    "    #print(dict_of_codes)\n",
    "    return ''.join(ans)\n",
    "decode_LZ78(x)"
   ]
  },
  {
   "cell_type": "code",
   "execution_count": 36,
   "metadata": {},
   "outputs": [],
   "source": [
    "T = input()\n",
    "S=[]\n",
    "Z=[]\n",
    "dit={}\n",
    "\n",
    "for i in range(int(T)):\n",
    "    a = input()\n",
    "    x = ''\n",
    "    for i in a:\n",
    "        if i.isalpha():\n",
    "            x+=i\n",
    "    a = a.replace(x+' ', '')\n",
    "    S.append(x)\n",
    "    Z.append(a)\n",
    "\n",
    "\n",
    "for i in range(len(S)):\n",
    "    dit[S[i]] = Z[i]\n",
    "\n",
    "from sys import stdin\n",
    "lines = stdin.read().splitlines()\n",
    "\n",
    "for i in range(len(lines)):\n",
    "    if lines[i] in dit:\n",
    "        print('{0}={1}'.format(lines[i], dit[lines[i]]))\n",
    "    else:\n",
    "        print('Not found')"
   ]
  },
  {
   "cell_type": "code",
   "execution_count": 51,
   "metadata": {},
   "outputs": [
    {
     "data": {
      "text/plain": [
       "19"
      ]
     },
     "execution_count": 51,
     "metadata": {},
     "output_type": "execute_result"
    }
   ],
   "source": [
    "x=[[1, 1, 1, 0, 0, 0],\n",
    "   [0, 1, 0, 0, 0, 0],\n",
    "   [1, 1, 1, 0, 0, 0],\n",
    "   [0, 0, 2, 4, 4, 0],\n",
    "   [0, 0, 0, 2, 0, 0],\n",
    "   [0, 0, 1, 2, 4, 0]]\n",
    "def hglass(a):\n",
    "    ans = []\n",
    "    for i in range(0,4):\n",
    "        for j in range(0,4):\n",
    "            ans.append(a[i][j]+a[i][j+1]+a[i][j+2]+a[i+1][j+1]+a[i+2][j]+a[i+2][j+1]+a[i+2][j+2])\n",
    "    return max(ans)\n",
    "hglass(x)"
   ]
  },
  {
   "cell_type": "code",
   "execution_count": 15,
   "metadata": {},
   "outputs": [
    {
     "name": "stdout",
     "output_type": "stream",
     "text": [
      "13\n"
     ]
    }
   ],
   "source": [
    "import math\n",
    "def solve(meal_cost, tip_percent, tax_percent):\n",
    "    tip = (tip_percent*meal_cost)/100\n",
    "    tax = (tax_percent*meal_cost)/100\n",
    "    tC = meal_cost + tip + tax\n",
    "    print (round(tC))\n",
    "\n",
    "solve(10.25, 17, 5)"
   ]
  },
  {
   "cell_type": "code",
   "execution_count": 14,
   "metadata": {},
   "outputs": [
    {
     "name": "stdout",
     "output_type": "stream",
     "text": [
      "3\n"
     ]
    }
   ],
   "source": [
    "n=3\n",
    "a=[3,2,1]\n",
    "\n",
    "numberOfSwaps = 0\n",
    "\n",
    "for i in range(n):\n",
    "    # Track number of elements swapped during a single array traversal\n",
    "    \n",
    "    \n",
    "    for j in range(n-1):\n",
    "        # Swap adjacent elements if they are in decreasing order\n",
    "        if (a[j] > a[j + 1]):\n",
    "            a[j], a[j + 1] = a[j + 1], a[j]\n",
    "            numberOfSwaps += 1\n",
    "    \n",
    "    # If no elements were swapped during a traversal, array is sorted\n",
    "    if (numberOfSwaps == 0):\n",
    "        break\n",
    "print(numberOfSwaps)"
   ]
  },
  {
   "cell_type": "code",
   "execution_count": null,
   "metadata": {},
   "outputs": [],
   "source": [
    "#linked list insert function\n",
    "\n",
    "def insert(self,head,data):\n",
    "    if (head == None):\n",
    "        head = Node(data)\n",
    "    elif (head.next == None):\n",
    "        head.next = Node(data)\n",
    "    else: \n",
    "        self.insert(head.next, data)\n",
    "    return head"
   ]
  },
  {
   "cell_type": "code",
   "execution_count": null,
   "metadata": {},
   "outputs": [],
   "source": [
    "# Level Order Traversal for BST\n",
    "\n",
    "class Node:\n",
    "    def __init__(self,data):\n",
    "        self.right=self.left=None\n",
    "        self.data = data\n",
    "class Solution:\n",
    "    def insert(self,root,data):\n",
    "        if root==None:\n",
    "            return Node(data)\n",
    "        else:\n",
    "            if data<=root.data:\n",
    "                cur=self.insert(root.left,data)\n",
    "                root.left=cur\n",
    "            else:\n",
    "                cur=self.insert(root.right,data)\n",
    "                root.right=cur\n",
    "        return root\n",
    "\n",
    "    def levelOrder(self,root):\n",
    "        #Write your code here\n",
    "        h = self.getHeight(root) \n",
    "        for i in range(1, h+2): \n",
    "            self.printGivenLevel(root, i)\n",
    "\n",
    "    def getHeight(self,root):\n",
    "        if root:\n",
    "            leftDepth = self.getHeight(root.left)\n",
    "            rightDepth = self.getHeight(root.right)\n",
    "            return max(leftDepth,rightDepth) + 1\n",
    "        else:\n",
    "            return -1\n",
    "\n",
    "    def printGivenLevel(self, root , level): \n",
    "        if root is None: \n",
    "            return\n",
    "        if level == 1: \n",
    "            print ('{}'.format(root.data), end=' ') \n",
    "        elif level > 1 : \n",
    "            self.printGivenLevel(root.left , level-1) \n",
    "            self.printGivenLevel(root.right , level-1) "
   ]
  },
  {
   "cell_type": "code",
   "execution_count": 1,
   "metadata": {},
   "outputs": [
    {
     "data": {
      "text/plain": [
       "3.0"
      ]
     },
     "execution_count": 1,
     "metadata": {},
     "output_type": "execute_result"
    }
   ],
   "source": [
    "import math\n",
    "math.sqrt(9)"
   ]
  },
  {
   "cell_type": "code",
   "execution_count": 2,
   "metadata": {},
   "outputs": [
    {
     "name": "stdout",
     "output_type": "stream",
     "text": [
      "3\n",
      "4\n",
      "Not prime\n",
      "6\n",
      "Not prime\n",
      "2\n",
      "Prime\n"
     ]
    }
   ],
   "source": [
    "def isprime(n):\n",
    "    if n == 1:\n",
    "        return 'Not prime'\n",
    "    for i in range(2, int(n**0.5) + 1):\n",
    "        if n%i == 0:\n",
    "            return 'Not prime'\n",
    "    return 'Prime'\n",
    "\n",
    "T = int(input())\n",
    "for i in range(T):\n",
    "    number = int(input())\n",
    "    print(isprime(number))"
   ]
  },
  {
   "cell_type": "code",
   "execution_count": 20,
   "metadata": {},
   "outputs": [
    {
     "data": {
      "text/plain": [
       "[1, 2]"
      ]
     },
     "execution_count": 20,
     "metadata": {},
     "output_type": "execute_result"
    }
   ],
   "source": [
    "ans=[1,2,3]\n",
    "ans.pop(-1)\n",
    "ans"
   ]
  },
  {
   "cell_type": "code",
   "execution_count": 16,
   "metadata": {},
   "outputs": [
    {
     "name": "stdout",
     "output_type": "stream",
     "text": [
      "30\n",
      "riya riya@gmail.com\n",
      "julia julia@julia.me\n",
      "julia sjulia@gmail.com\n",
      "julia julia@gmail.com\n",
      "samantha samantha@gmail.com\n",
      "tanya tanya@gmail.com\n",
      "riya ariya@gmail.com\n",
      "julia bjulia@julia.me\n",
      "julia csjulia@gmail.com\n",
      "julia djulia@gmail.com\n",
      "samantha esamantha@gmail.com\n",
      "tanya ftanya@gmail.com\n",
      "riya riya@live.com\n",
      "julia julia@live.com\n",
      "julia sjulia@live.com\n",
      "julia julia@live.com\n",
      "samantha samantha@live.com\n",
      "tanya tanya@live.com\n",
      "riya ariya@live.com\n",
      "julia bjulia@live.com\n",
      "julia csjulia@live.com\n",
      "julia djulia@live.com\n",
      "samantha esamantha@live.com\n",
      "tanya ftanya@live.com\n",
      "riya gmail@riya.com\n",
      "priya priya@gmail.com\n",
      "preeti preeti@gmail.com\n",
      "alice alice@alicegmail.com\n",
      "alice alice@gmail.com\n",
      "alice gmail.alice@gmail.com\n",
      "alice\n",
      "alice\n",
      "alice\n",
      "julia\n",
      "julia\n",
      "julia\n",
      "julia\n",
      "preeti\n",
      "priya\n",
      "riya\n",
      "riya\n",
      "riya\n",
      "samantha\n",
      "samantha\n",
      "tanya\n",
      "tanya\n"
     ]
    }
   ],
   "source": [
    "if __name__ == '__main__':\n",
    "    N = int(input())\n",
    "\n",
    "    ans = []\n",
    "\n",
    "    for N_itr in range(N):\n",
    "        firstNameEmailID = input().split()\n",
    "\n",
    "        firstName = firstNameEmailID[0]\n",
    "\n",
    "        emailID = firstNameEmailID[1]\n",
    "\n",
    "        if '@gmail' in emailID:\n",
    "            ans.append(firstName)\n",
    "\n",
    "    ans = sorted(ans)\n",
    "\n",
    "    for i in range(len(ans)):\n",
    "        print(ans[i])"
   ]
  },
  {
   "cell_type": "code",
   "execution_count": 8,
   "metadata": {},
   "outputs": [
    {
     "data": {
      "text/plain": [
       "'123'"
      ]
     },
     "execution_count": 8,
     "metadata": {},
     "output_type": "execute_result"
    }
   ],
   "source": [
    "s=[1,2,3]\n",
    "''.join(map(str, s))"
   ]
  },
  {
   "cell_type": "code",
   "execution_count": 1,
   "metadata": {},
   "outputs": [
    {
     "name": "stdout",
     "output_type": "stream",
     "text": [
      "Data transferred is 10101001110\n",
      "Error Data is 11101001110\n",
      "The position of error is 10\n"
     ]
    }
   ],
   "source": [
    "def calcRedundantBits(m): \n",
    "  \n",
    "    # Use the formula 2 ^ r >= m + r + 1 \n",
    "  \n",
    "    for i in range(m): \n",
    "        if(2**i >= m + i + 1): \n",
    "            return i \n",
    "  \n",
    "  \n",
    "def posRedundantBits(data, r): \n",
    "  \n",
    "    # Redundancy bits are placed at the positions of power of 2\n",
    "    j = 0\n",
    "    k = 1\n",
    "    m = len(data) \n",
    "    res = '' \n",
    "  \n",
    "    # If position is power of 2 then insert '0' \n",
    "    # Else append the data \n",
    "    for i in range(1, m + r+1): \n",
    "        if(i == 2**j): \n",
    "            res = res + '0'\n",
    "            j += 1\n",
    "        else: \n",
    "            res = res + data[-1 * k] \n",
    "            k += 1\n",
    "  \n",
    "    # The result is reversed since positions are \n",
    "    # counted backwards. (m + r+1 ... 1) \n",
    "    return res[::-1]\n",
    "\n",
    "def calcParityBits(arr, r): \n",
    "    n = len(arr) \n",
    "  \n",
    "    # For finding rth parity bit, iterate over \n",
    "    # 0 to r - 1 \n",
    "    for i in range(r): \n",
    "        val = 0\n",
    "        for j in range(1, n + 1): \n",
    "  \n",
    "            \n",
    "            if(j & (2**i) == (2**i)): \n",
    "                val = val ^ int(arr[-1 * j]) \n",
    "                \n",
    "  \n",
    "        arr = arr[:n-(2**i)] + str(val) + arr[n-(2**i)+1:] \n",
    "    return arr\n",
    "\n",
    "def detectError(arr, nr): \n",
    "    n = len(arr) \n",
    "    res = 0\n",
    "  \n",
    "    # Calculate parity bits again \n",
    "    for i in range(nr): \n",
    "        val = 0\n",
    "        for j in range(1, n + 1): \n",
    "            if(j & (2**i) == (2**i)): \n",
    "                val = val ^ int(arr[-1 * j]) \n",
    "  \n",
    "        \n",
    "  \n",
    "        res = res + val*(10**i) \n",
    "  \n",
    "    #binary to decimal \n",
    "    return int(str(res), 2) \n",
    "  \n",
    "  \n",
    "# Enter the data to be transmitted \n",
    "data = '1011001'\n",
    "  \n",
    "# Calculate the no of Redundant Bits Required \n",
    "m = len(data) \n",
    "r = calcRedundantBits(m) \n",
    "  \n",
    "# Determine the positions of Redundant Bits \n",
    "arr = posRedundantBits(data, r) \n",
    "  \n",
    "# Determine the parity bits \n",
    "arr = calcParityBits(arr, r) \n",
    "  \n",
    "# Data to be transferred \n",
    "print(\"Data transferred is \" + arr)   \n",
    "  \n",
    "# Stimulate error in transmission by changing \n",
    "# a bit value. \n",
    "# 10101001110 -> 11101001110, error in 10th position. \n",
    "  \n",
    "arr = '11101001110'\n",
    "print(\"Error Data is \" + arr) \n",
    "correction = detectError(arr, r) \n",
    "print(\"The position of error is \" + str(correction))"
   ]
  },
  {
   "cell_type": "code",
   "execution_count": 1,
   "metadata": {},
   "outputs": [
    {
     "name": "stdout",
     "output_type": "stream",
     "text": [
      "2.8722813232690143\n",
      "1.7916472867168918\n",
      "3.65\n",
      "0.7092729120837249\n"
     ]
    }
   ],
   "source": [
    "import math\n",
    "x = [1,2,3,4,5,6,7,8,9,10]\n",
    "y = [7,6,5,4,5,6,7,8,9,10]\n",
    "mean = sum(x)/len(x)\n",
    "x1 =[(i-mean)**2 for i in x]\n",
    "sd = math.sqrt(sum(x1)/len(x))\n",
    "print(sd)\n",
    "mean1 = sum(y)/len(y)\n",
    "y1 =[(i-mean1)**2 for i in y]\n",
    "sd1 = math.sqrt(sum(y1)/len(y))\n",
    "print(sd1)\n",
    "cov = []\n",
    "for i in range(len(x)):\n",
    "    cov.append((x[i]-mean)*(y[i]-mean1))\n",
    "cov = sum(cov)/len(x)\n",
    "print(cov)\n",
    "cor = cov/(sd*sd1)\n",
    "print(cor)"
   ]
  },
  {
   "cell_type": "code",
   "execution_count": 1,
   "metadata": {},
   "outputs": [],
   "source": [
    "def catAndMouse(x, y, z):\n",
    "\n",
    "    c1 = abs(z-x)\n",
    "    c2 = abs(z-y)\n",
    "    if (c1>c2):\n",
    "        return \"Cat B\"\n",
    "    if (c1<c2):\n",
    "        return \"Cat A\"\n",
    "    else:\n",
    "        return \"Mouse C\""
   ]
  },
  {
   "cell_type": "code",
   "execution_count": 2,
   "metadata": {},
   "outputs": [],
   "source": [
    "def countingValleys(n, s):\n",
    "\n",
    "    ans = 0\n",
    "    count = 0\n",
    "\n",
    "    for i in s:\n",
    "        \n",
    "        if (i == 'D'):\n",
    "            count -= 1\n",
    "        elif (i == 'U'):\n",
    "            count += 1\n",
    "            \n",
    "        if (count == 0 and i == 'U'):\n",
    "            ans += 1\n",
    "\n",
    "    return ans"
   ]
  },
  {
   "cell_type": "code",
   "execution_count": 3,
   "metadata": {},
   "outputs": [],
   "source": [
    "def getMoneySpent(keyboards, drives, b):\n",
    "    #\n",
    "    # Write your code here.\n",
    "    #\n",
    "    ans = []\n",
    "    # print(keyboards, drives)\n",
    "    for i in keyboards:\n",
    "        for j in drives:\n",
    "            # print(\"{} + {} = {}\".format(i, j, i+j))\n",
    "            if (i+j <= b):\n",
    "                ans.append(i+j)\n",
    "    if (len(ans) != 0):\n",
    "        return max(ans)\n",
    "    else:\n",
    "        return -1"
   ]
  },
  {
   "cell_type": "code",
   "execution_count": 13,
   "metadata": {},
   "outputs": [
    {
     "name": "stdout",
     "output_type": "stream",
     "text": [
      "1\n",
      "4\n"
     ]
    }
   ],
   "source": [
    "def formMagicSquare(s):\n",
    "    pre = [\n",
    "        [[8, 1, 6], [3, 5, 7], [4, 9, 2]],\n",
    "        [[6, 1, 8], [7, 5, 3], [2, 9, 4]],\n",
    "        [[4, 9, 2], [3, 5, 7], [8, 1, 6]],\n",
    "        [[2, 9, 4], [7, 5, 3], [6, 1, 8]], \n",
    "        [[8, 3, 4], [1, 5, 9], [6, 7, 2]],\n",
    "        [[4, 3, 8], [9, 5, 1], [2, 7, 6]], \n",
    "        [[6, 7, 2], [1, 5, 9], [8, 3, 4]], \n",
    "        [[2, 7, 6], [9, 5, 1], [4, 3, 8]]\n",
    "        ]\n",
    "    totals = []\n",
    "    for p in pre:\n",
    "        total = 0\n",
    "        for p_row, s_row in zip(p, s):\n",
    "            for i, j in zip(p_row, s_row):\n",
    "                total += abs(i-j)\n",
    "        totals.append(total)\n",
    "    return min(totals)\n",
    "\n",
    "print(formMagicSquare([[4,9,2],[3,5,7],[8,1,5]]))\n",
    "\n",
    "print(formMagicSquare([[4,8,2],[4,5,7],[6,1,6]]))"
   ]
  },
  {
   "cell_type": "code",
   "execution_count": 8,
   "metadata": {},
   "outputs": [
    {
     "name": "stdout",
     "output_type": "stream",
     "text": [
      "3\n"
     ]
    }
   ],
   "source": [
    "from collections import Counter\n",
    "def pickingNumbers(a):\n",
    "    a = Counter(a)\n",
    "#     print(a)\n",
    "    return max(a[k]+a.get(k+1,0) for k in sorted(a))\n",
    "\n",
    "print(pickingNumbers([84 ,43, 11 ,41, 2, 99, 31 ,32 ,56 ,53 ,42, 14 ,98 ,27, 64, 57, 16, 33, 48 ,21 ,46 ,61 ,87 ,90, 28, 12, 62 ,49 ,29, 77 ,82, 70 ,80, 89, 95, 52, 13, 19, 9 ,79 ,35, 67, 51 ,39, 7, 1 ,66, 8, 17, 85, 71 ,97 ,34 ,73 ,75 ,6 ,91 ,40 ,96, 65 ,37 ,74 ,20 ,68 ,23, 47 ,76, 55, 24, 3 ,30, 22 ,55, 5, 69, 86, 54 ,50 ,10, 59 ,15, 4 ,36, 38, 83, 60, 72, 63, 78, 58, 88, 93, 45, 18, 94, 44, 92, 81 ,25,26]))"
   ]
  },
  {
   "cell_type": "code",
   "execution_count": 7,
   "metadata": {},
   "outputs": [],
   "source": [
    "def beautifulDays(i, j, k):\n",
    "    ans = 0\n",
    "    for x in range(i, j+1):\n",
    "        y = str(x)\n",
    "        y = int(y[::-1])\n",
    "        if (abs(x-y)%k == 0):\n",
    "            ans += 1\n",
    "    return ans"
   ]
  },
  {
   "cell_type": "code",
   "execution_count": 8,
   "metadata": {},
   "outputs": [
    {
     "data": {
      "text/plain": [
       "0"
      ]
     },
     "execution_count": 8,
     "metadata": {},
     "output_type": "execute_result"
    }
   ],
   "source": [
    "def pageCount(n, p):\n",
    "    #\n",
    "    # Write your code here.\n",
    "    #\n",
    "    return min(p//2, n//2-p//2)\n",
    "pageCount(5,4)"
   ]
  },
  {
   "cell_type": "code",
   "execution_count": 1,
   "metadata": {},
   "outputs": [],
   "source": [
    "def climbingLeaderboard(scores, alice):\n",
    "    ans = []\n",
    "    dic = {}\n",
    "    let = sorted(list(set(scores)), reverse=True)\n",
    "    rank = 1\n",
    "    for j in range(len(let)):\n",
    "        dic[let[j]] = rank\n",
    "        rank += 1\n",
    "    for i in alice:\n",
    "        dic[i] = 0\n",
    "        temp = sorted(dic.keys(), reverse=True)\n",
    "        ans.append(temp.index(i)+1)\n",
    "        del dic[i]\n",
    "    return ans"
   ]
  },
  {
   "cell_type": "code",
   "execution_count": 2,
   "metadata": {},
   "outputs": [],
   "source": [
    "def viralAdvertising(n):\n",
    "    shared = 5\n",
    "    ans = 0\n",
    "    for i in range(n):\n",
    "        liked = shared//2\n",
    "        shared = liked*3\n",
    "        ans += liked\n",
    "    return ans"
   ]
  },
  {
   "cell_type": "code",
   "execution_count": 3,
   "metadata": {},
   "outputs": [],
   "source": [
    "def hurdleRace(k, height):\n",
    "    if max(height)<k:\n",
    "        return 0\n",
    "    else:\n",
    "        return max(height)-k"
   ]
  },
  {
   "cell_type": "code",
   "execution_count": 15,
   "metadata": {},
   "outputs": [
    {
     "data": {
      "text/plain": [
       "3"
      ]
     },
     "execution_count": 15,
     "metadata": {},
     "output_type": "execute_result"
    }
   ],
   "source": [
    "def saveThePrisoner(n, m, s):\n",
    "    count = 0\n",
    "    s -= 1\n",
    "    while (count != m):\n",
    "        if (s == n):\n",
    "            s = 1\n",
    "        else:\n",
    "            s += 1\n",
    "        count += 1\n",
    "    return s\n",
    "saveThePrisoner(3,7,3)"
   ]
  },
  {
   "cell_type": "code",
   "execution_count": 16,
   "metadata": {},
   "outputs": [],
   "source": [
    "def jumpingOnClouds(c, k):\n",
    "    flag = 0\n",
    "    i = 0\n",
    "    energy = 100\n",
    "    while (flag != 1):\n",
    "        i = (i+k)%len(c)\n",
    "        energy -= 1\n",
    "        if (c[i] == 1):\n",
    "            energy -= 2\n",
    "        if (i == 0):\n",
    "            flag = 1\n",
    "    return energy"
   ]
  },
  {
   "cell_type": "code",
   "execution_count": 7,
   "metadata": {},
   "outputs": [
    {
     "data": {
      "text/plain": [
       "8"
      ]
     },
     "execution_count": 7,
     "metadata": {},
     "output_type": "execute_result"
    }
   ],
   "source": [
    "def workbook(n, k, arr):\n",
    "    pages = []\n",
    "    for i in arr:\n",
    "        if (i<k):\n",
    "            pages.append(1)\n",
    "        else:\n",
    "            if (i%k == 0):\n",
    "                pages.append(i//k)\n",
    "            else:\n",
    "                pages.append(i//k + 1)\n",
    "    page = 0\n",
    "    count = 0\n",
    "    ans = 0\n",
    "    mul = 0\n",
    "    while (sum(pages) != 0):\n",
    "        # print(page)\n",
    "        if (k*mul < page+1 and page+1 <= min(k*(mul+1), arr[count])):\n",
    "            ans += 1\n",
    "        pages[count] -= 1\n",
    "        mul += 1\n",
    "        page += 1\n",
    "        if (pages[count] == 0):\n",
    "            count += 1\n",
    "            mul = 0\n",
    "    return ans\n",
    "workbook(10, 5, [3,8, 15, 11 ,14 ,1, 9, 2 ,24 ,31])"
   ]
  },
  {
   "cell_type": "code",
   "execution_count": 8,
   "metadata": {},
   "outputs": [],
   "source": [
    "def flatlandSpaceStations(n, c):\n",
    "    dic = {}\n",
    "    for i in range(n):\n",
    "        dic[i] = min([abs(i-j) for j in c])\n",
    "    return max(dic.values())"
   ]
  },
  {
   "cell_type": "code",
   "execution_count": 12,
   "metadata": {},
   "outputs": [],
   "source": [
    "def timeInWords(h, m):\n",
    "    dic = {\n",
    "        1 : \"one\",\n",
    "        2 : \"two\",\n",
    "        3 : \"three\",\n",
    "        4 : \"four\",\n",
    "        5 : \"five\",\n",
    "        6 : \"six\",\n",
    "        7 : \"seven\",\n",
    "        8 : \"eight\",\n",
    "        9 : \"nine\",\n",
    "        10 : \"ten\",\n",
    "        11 : \"eleven\",\n",
    "        12 : \"twelve\",\n",
    "        13 : \"thirteen\",\n",
    "        14 : \"fourteen\",\n",
    "        15 : \"quarter\",\n",
    "        16 : \"sixteen\",\n",
    "        17 : \"seventeen\",\n",
    "        18 : \"eighteen\",\n",
    "        19 : \"nineteen\",\n",
    "        20 : \"twenty\",\n",
    "        21 : \"twenty one\",\n",
    "        22 : \"twenty two\",\n",
    "        23 : \"twenty three\",\n",
    "        24 : \"twenty four\",\n",
    "        25 : \"twenty five\",\n",
    "        26 : \"twenty six\",\n",
    "        27 : \"twenty seven\",\n",
    "        28 : \"twenty eight\",\n",
    "        29 : \"twenty nine\",\n",
    "        30 : \"half\"\n",
    "    }\n",
    "    if (m == 0):\n",
    "        return dic[h] + \" o' clock\"\n",
    "    elif (m>=1 and m<=30):\n",
    "        if (m == 1):\n",
    "            return dic[m] +\" minute past \"+dic[h]\n",
    "        elif (m != 15 and m != 30):\n",
    "            return dic[m] + \" minutes past \"+dic[h]\n",
    "        else:\n",
    "            return dic[m] + \" past \"+dic[h]\n",
    "    elif (m>30):\n",
    "        if (h == 12):\n",
    "            return dic[60-m] + \" minutes to one\"\n",
    "        elif (m != 45):\n",
    "            return dic[60-m] + \" minutes to \"+dic[h+1]\n",
    "        else:\n",
    "            return dic[60-m] + \" to \"+dic[h+1]"
   ]
  },
  {
   "cell_type": "code",
   "execution_count": 1,
   "metadata": {},
   "outputs": [],
   "source": [
    "def fairRations(B):\n",
    "    if (len(B) == 2 and sum(B)%2 != 0):\n",
    "        return \"NO\"\n",
    "    ans = 0\n",
    "    \n",
    "    for i in range(len(B)):\n",
    "        C = [j for j in B if j%2 != 0]\n",
    "        if (len(C) != 0):\n",
    "            if (B[i] == min(C)):\n",
    "                ans += 2\n",
    "                C.remove(B[i])\n",
    "                B[i] += 1\n",
    "                B[i+1] += 1\n",
    "    return ans"
   ]
  },
  {
   "cell_type": "code",
   "execution_count": 2,
   "metadata": {},
   "outputs": [],
   "source": [
    "def bigSorting(unsorted):\n",
    "    return sorted(unsorted, key=int)"
   ]
  },
  {
   "cell_type": "code",
   "execution_count": 3,
   "metadata": {},
   "outputs": [],
   "source": [
    "def repeatedString(s, n):\n",
    "    c = 0\n",
    "    rem = 0\n",
    "    for i in s:\n",
    "        if i == 'a':\n",
    "            c += 1\n",
    "    t = s[:int(n%len(s))]\n",
    "    for i in t:\n",
    "        if i == 'a':\n",
    "            rem += 1\n",
    "    return c*(n//len(s)) + rem"
   ]
  },
  {
   "cell_type": "code",
   "execution_count": 4,
   "metadata": {},
   "outputs": [],
   "source": [
    "def serviceLane(width, cases):\n",
    "    ans = []\n",
    "    for [i,j] in cases:\n",
    "        ans.append(min(width[i:j+1]))\n",
    "    return ans"
   ]
  },
  {
   "cell_type": "code",
   "execution_count": 5,
   "metadata": {},
   "outputs": [],
   "source": [
    "def jumpingOnClouds(c):\n",
    "    i = 0\n",
    "    ans = 0\n",
    "    while (i < len(c)-1):\n",
    "        if (i+2 <= len(c)-1 and c[i+2] == 0):\n",
    "            i += 2\n",
    "        elif (c[i+1] == 0):\n",
    "            i += 1\n",
    "        ans += 1\n",
    "    return ans"
   ]
  },
  {
   "cell_type": "code",
   "execution_count": 64,
   "metadata": {},
   "outputs": [
    {
     "name": "stdout",
     "output_type": "stream",
     "text": [
      "[1800]\n"
     ]
    }
   ],
   "source": [
    "from itertools import combinations_with_replacement\n",
    "\n",
    "# Complete the stones function below.\n",
    "def stones(n, a, b):\n",
    "    ans = []\n",
    "    comb = combinations_with_replacement([a, b], n-1)\n",
    "    for i in comb:\n",
    "        ans.append(sum(i))\n",
    "    return sorted(list(set(ans)))\n",
    "print(stones(73,25,25))"
   ]
  },
  {
   "cell_type": "code",
   "execution_count": 68,
   "metadata": {},
   "outputs": [],
   "source": [
    "def gridSearch(G, P):\n",
    "    i = 0\n",
    "    for j in range(len(G)):\n",
    "        if (P[i] in G[j]):\n",
    "            print(i, j)\n",
    "            index = G[j].find(P[i])\n",
    "            break\n",
    "    while (i < len(P)):\n",
    "#         if (index != G[j].find(P[i])):\n",
    "        if (P[i] not in G[j]):\n",
    "            return \"NO\"\n",
    "        else:\n",
    "            i += 1\n",
    "            j += 1\n",
    "    return \"YES\""
   ]
  },
  {
   "cell_type": "code",
   "execution_count": 1,
   "metadata": {},
   "outputs": [],
   "source": [
    "def introTutorial(V, arr):\n",
    "    return arr.index(V)"
   ]
  },
  {
   "cell_type": "code",
   "execution_count": 9,
   "metadata": {},
   "outputs": [
    {
     "data": {
      "text/plain": [
       "[1, 2, 3, 4, 5, 6, 7, 8, 9, 10]"
      ]
     },
     "execution_count": 9,
     "metadata": {},
     "output_type": "execute_result"
    }
   ],
   "source": [
    "def insertionSort1(arr):\n",
    "    x = 0\n",
    "    val = arr[-1]\n",
    "    for i in range(len(arr)-2, -1, -1):\n",
    "        if (val > arr[i]):\n",
    "            arr[i+1] = val\n",
    "#             printArray(arr)\n",
    "            break\n",
    "        else:\n",
    "            arr[i+1] = arr[i]\n",
    "#             printArray(arr)\n",
    "    if val not in arr:\n",
    "        arr[0] = val\n",
    "    return arr\n",
    "\n",
    "def printArray(arr):\n",
    "    for j in arr:\n",
    "        print(j, end=\" \")\n",
    "    print(\"\")\n",
    "insertionSort1([2 ,3 ,4, 5 ,6 ,7 ,8, 9 ,10 ,1])"
   ]
  },
  {
   "cell_type": "code",
   "execution_count": 10,
   "metadata": {},
   "outputs": [
    {
     "data": {
      "text/plain": [
       "[1, 2, 3, 4, 5, 6]"
      ]
     },
     "execution_count": 10,
     "metadata": {},
     "output_type": "execute_result"
    }
   ],
   "source": [
    "def insertionSort2(arr):\n",
    "    for i in range(2, len(arr)+1):\n",
    "        arr[:i] = insertionSort1(list(arr[:i]))\n",
    "    return arr\n",
    "insertionSort2([4, 1 ,3, 5, 6, 2])"
   ]
  },
  {
   "cell_type": "code",
   "execution_count": 54,
   "metadata": {},
   "outputs": [
    {
     "data": {
      "text/plain": [
       "'YES'"
      ]
     },
     "execution_count": 54,
     "metadata": {},
     "output_type": "execute_result"
    }
   ],
   "source": [
    "def happyLadybugs(b):\n",
    "    bs = list(set(b))\n",
    "    if ((\"_\" not in bs and len(b) == 1) and ''.join(sorted(b)) != b):\n",
    "        return \"NO\"\n",
    "    else:\n",
    "        if (len(bs) == 1):\n",
    "            return \"YES\"\n",
    "        else:\n",
    "            for i in bs:\n",
    "                if (i != \"_\" and b.count(i) == 1):\n",
    "                    return \"NO\"\n",
    "    return \"YES\"\n",
    "happyLadybugs(\"R\")"
   ]
  },
  {
   "cell_type": "code",
   "execution_count": 54,
   "metadata": {},
   "outputs": [
    {
     "data": {
      "text/plain": [
       "[3,\n",
       " 4,\n",
       " 1,\n",
       " 2,\n",
       " 7,\n",
       " 8,\n",
       " 5,\n",
       " 6,\n",
       " 11,\n",
       " 12,\n",
       " 9,\n",
       " 10,\n",
       " 15,\n",
       " 16,\n",
       " 13,\n",
       " 14,\n",
       " 19,\n",
       " 20,\n",
       " 17,\n",
       " 18,\n",
       " 23,\n",
       " 24,\n",
       " 21,\n",
       " 22,\n",
       " 27,\n",
       " 28,\n",
       " 25,\n",
       " 26,\n",
       " 31,\n",
       " 32,\n",
       " 29,\n",
       " 30,\n",
       " 35,\n",
       " 36,\n",
       " 33,\n",
       " 34,\n",
       " 39,\n",
       " 40,\n",
       " 37,\n",
       " 38,\n",
       " 43,\n",
       " 44,\n",
       " 41,\n",
       " 42,\n",
       " 47,\n",
       " 48,\n",
       " 45,\n",
       " 46,\n",
       " 51,\n",
       " 52,\n",
       " 49,\n",
       " 50,\n",
       " 55,\n",
       " 56,\n",
       " 53,\n",
       " 54,\n",
       " 59,\n",
       " 60,\n",
       " 57,\n",
       " 58,\n",
       " 63,\n",
       " 64,\n",
       " 61,\n",
       " 62,\n",
       " 67,\n",
       " 68,\n",
       " 65,\n",
       " 66,\n",
       " 71,\n",
       " 72,\n",
       " 69,\n",
       " 70,\n",
       " 75,\n",
       " 76,\n",
       " 73,\n",
       " 74,\n",
       " 79,\n",
       " 80,\n",
       " 77,\n",
       " 78,\n",
       " 83,\n",
       " 84,\n",
       " 81,\n",
       " 82,\n",
       " 87,\n",
       " 88,\n",
       " 85,\n",
       " 86,\n",
       " 91,\n",
       " 92,\n",
       " 89,\n",
       " 90,\n",
       " 95,\n",
       " 96,\n",
       " 93,\n",
       " 94,\n",
       " 99,\n",
       " 100,\n",
       " 97,\n",
       " 98]"
      ]
     },
     "execution_count": 54,
     "metadata": {},
     "output_type": "execute_result"
    }
   ],
   "source": [
    "def absolutePermutation(n, k):\n",
    "    x = list(range(1, n+1))\n",
    "    y = []\n",
    "    for i in x:\n",
    "        if ((i-k) > 0 and (i-k) not in y):\n",
    "            y.append(i-k)\n",
    "        elif ((i+k) <= n and (i+k) not in y):\n",
    "            y.append(i+k)\n",
    "    if (len(y) != n):\n",
    "        return [-1]\n",
    "    return y\n",
    "absolutePermutation(100, 2)"
   ]
  },
  {
   "cell_type": "code",
   "execution_count": null,
   "metadata": {},
   "outputs": [
    {
     "name": "stdout",
     "output_type": "stream",
     "text": [
      "Collecting pyspark==2.4.5\r\n"
     ]
    }
   ],
   "source": [
    "!pip3 install pyspark==2.4.5"
   ]
  },
  {
   "cell_type": "code",
   "execution_count": null,
   "metadata": {},
   "outputs": [],
   "source": []
  }
 ],
 "metadata": {
  "kernelspec": {
   "display_name": "Python 3",
   "language": "python",
   "name": "python3"
  },
  "language_info": {
   "codemirror_mode": {
    "name": "ipython",
    "version": 3
   },
   "file_extension": ".py",
   "mimetype": "text/x-python",
   "name": "python",
   "nbconvert_exporter": "python",
   "pygments_lexer": "ipython3",
   "version": "3.6.8"
  }
 },
 "nbformat": 4,
 "nbformat_minor": 2
}
